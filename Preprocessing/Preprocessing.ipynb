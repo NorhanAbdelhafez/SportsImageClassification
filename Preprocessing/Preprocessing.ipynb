{
  "nbformat": 4,
  "nbformat_minor": 0,
  "metadata": {
    "colab": {
      "provenance": []
    },
    "kernelspec": {
      "name": "python3",
      "display_name": "Python 3"
    },
    "language_info": {
      "name": "python"
    }
  },
  "cells": [
    {
      "cell_type": "code",
      "execution_count": 1,
      "metadata": {
        "colab": {
          "base_uri": "https://localhost:8080/"
        },
        "id": "IisKkaE4fINU",
        "outputId": "b2f3fae5-e78e-418d-c89a-54578b0eb0ba"
      },
      "outputs": [
        {
          "output_type": "stream",
          "name": "stdout",
          "text": [
            "Drive already mounted at /content/drive; to attempt to forcibly remount, call drive.mount(\"/content/drive\", force_remount=True).\n"
          ]
        }
      ],
      "source": [
        "from google.colab import drive\n",
        "drive.mount('/content/drive')"
      ]
    },
    {
      "cell_type": "code",
      "source": [
        "import cv2\n",
        "import pandas as pd\n",
        "import numpy as np\n",
        "from matplotlib import pyplot as plt\n",
        "import os\n",
        "from PIL import Image\n",
        "plt.style.use('seaborn')\n",
        "from pydrive.auth import GoogleAuth\n",
        "from pydrive.drive import GoogleDrive\n",
        "from google.colab import files as FILE"
      ],
      "metadata": {
        "id": "flY6EjWViXV-"
      },
      "execution_count": 2,
      "outputs": []
    },
    {
      "cell_type": "markdown",
      "source": [
        "**Exploring Dataset and converting it to dataframe that contains:**\n",
        "- image's relative path \n",
        "- Class (Football, Tennis, ..etc)\n",
        "- Label is (according to the competition description) the predicted class and should be one of the following values: 0,1,2,3,4,5.\n"
      ],
      "metadata": {
        "id": "eE-exU1Xa_by"
      }
    },
    {
      "cell_type": "code",
      "source": [
        "directory = '/content/drive/MyDrive/NN Dataset.zip (Unzipped Files)/Train/'\n",
        "d=[]\n",
        "\n",
        "for filename in os.listdir(directory):\n",
        "    path = os.path.join(directory, filename)\n",
        "    SportName=filename.split(\"_\")[0]\n",
        "    labelImg=-1\n",
        "    if(SportName==\"Basketball\"):\n",
        "      labelImg=0\n",
        "    elif(SportName==\"Football\"):\n",
        "      labelImg=1\n",
        "    elif(SportName==\"Rowing\"):\n",
        "      labelImg=2\n",
        "    elif(SportName==\"Swimming\"):\n",
        "      labelImg=3\n",
        "    elif(SportName==\"Tennis\"):\n",
        "      labelImg=4\n",
        "    elif(SportName==\"Yoga\"):\n",
        "      labelImg=5\n",
        "    else:\n",
        "      continue\n",
        "    d.append(\n",
        "        {\n",
        "            'Path': path,\n",
        "            'Class': SportName,\n",
        "            'Label':labelImg,\n",
        "        }\n",
        "    )\n",
        "df= pd.DataFrame(d)"
      ],
      "metadata": {
        "id": "JERIeROeoBxm"
      },
      "execution_count": 3,
      "outputs": []
    },
    {
      "cell_type": "code",
      "source": [
        "df"
      ],
      "metadata": {
        "colab": {
          "base_uri": "https://localhost:8080/",
          "height": 424
        },
        "id": "_lnAwYF0oKpn",
        "outputId": "0ccc1066-34a1-4580-b7d5-1788bda0c010"
      },
      "execution_count": 4,
      "outputs": [
        {
          "output_type": "execute_result",
          "data": {
            "text/plain": [
              "                                                   Path       Class  Label\n",
              "0     /content/drive/MyDrive/NN Dataset.zip (Unzippe...        Yoga      5\n",
              "1     /content/drive/MyDrive/NN Dataset.zip (Unzippe...        Yoga      5\n",
              "2     /content/drive/MyDrive/NN Dataset.zip (Unzippe...        Yoga      5\n",
              "3     /content/drive/MyDrive/NN Dataset.zip (Unzippe...        Yoga      5\n",
              "4     /content/drive/MyDrive/NN Dataset.zip (Unzippe...        Yoga      5\n",
              "...                                                 ...         ...    ...\n",
              "2116  /content/drive/MyDrive/NN Dataset.zip (Unzippe...  Basketball      0\n",
              "2117  /content/drive/MyDrive/NN Dataset.zip (Unzippe...  Basketball      0\n",
              "2118  /content/drive/MyDrive/NN Dataset.zip (Unzippe...  Basketball      0\n",
              "2119  /content/drive/MyDrive/NN Dataset.zip (Unzippe...  Basketball      0\n",
              "2120  /content/drive/MyDrive/NN Dataset.zip (Unzippe...  Basketball      0\n",
              "\n",
              "[2121 rows x 3 columns]"
            ],
            "text/html": [
              "\n",
              "  <div id=\"df-3d43d560-2704-42cf-9092-2c6607648bab\">\n",
              "    <div class=\"colab-df-container\">\n",
              "      <div>\n",
              "<style scoped>\n",
              "    .dataframe tbody tr th:only-of-type {\n",
              "        vertical-align: middle;\n",
              "    }\n",
              "\n",
              "    .dataframe tbody tr th {\n",
              "        vertical-align: top;\n",
              "    }\n",
              "\n",
              "    .dataframe thead th {\n",
              "        text-align: right;\n",
              "    }\n",
              "</style>\n",
              "<table border=\"1\" class=\"dataframe\">\n",
              "  <thead>\n",
              "    <tr style=\"text-align: right;\">\n",
              "      <th></th>\n",
              "      <th>Path</th>\n",
              "      <th>Class</th>\n",
              "      <th>Label</th>\n",
              "    </tr>\n",
              "  </thead>\n",
              "  <tbody>\n",
              "    <tr>\n",
              "      <th>0</th>\n",
              "      <td>/content/drive/MyDrive/NN Dataset.zip (Unzippe...</td>\n",
              "      <td>Yoga</td>\n",
              "      <td>5</td>\n",
              "    </tr>\n",
              "    <tr>\n",
              "      <th>1</th>\n",
              "      <td>/content/drive/MyDrive/NN Dataset.zip (Unzippe...</td>\n",
              "      <td>Yoga</td>\n",
              "      <td>5</td>\n",
              "    </tr>\n",
              "    <tr>\n",
              "      <th>2</th>\n",
              "      <td>/content/drive/MyDrive/NN Dataset.zip (Unzippe...</td>\n",
              "      <td>Yoga</td>\n",
              "      <td>5</td>\n",
              "    </tr>\n",
              "    <tr>\n",
              "      <th>3</th>\n",
              "      <td>/content/drive/MyDrive/NN Dataset.zip (Unzippe...</td>\n",
              "      <td>Yoga</td>\n",
              "      <td>5</td>\n",
              "    </tr>\n",
              "    <tr>\n",
              "      <th>4</th>\n",
              "      <td>/content/drive/MyDrive/NN Dataset.zip (Unzippe...</td>\n",
              "      <td>Yoga</td>\n",
              "      <td>5</td>\n",
              "    </tr>\n",
              "    <tr>\n",
              "      <th>...</th>\n",
              "      <td>...</td>\n",
              "      <td>...</td>\n",
              "      <td>...</td>\n",
              "    </tr>\n",
              "    <tr>\n",
              "      <th>2116</th>\n",
              "      <td>/content/drive/MyDrive/NN Dataset.zip (Unzippe...</td>\n",
              "      <td>Basketball</td>\n",
              "      <td>0</td>\n",
              "    </tr>\n",
              "    <tr>\n",
              "      <th>2117</th>\n",
              "      <td>/content/drive/MyDrive/NN Dataset.zip (Unzippe...</td>\n",
              "      <td>Basketball</td>\n",
              "      <td>0</td>\n",
              "    </tr>\n",
              "    <tr>\n",
              "      <th>2118</th>\n",
              "      <td>/content/drive/MyDrive/NN Dataset.zip (Unzippe...</td>\n",
              "      <td>Basketball</td>\n",
              "      <td>0</td>\n",
              "    </tr>\n",
              "    <tr>\n",
              "      <th>2119</th>\n",
              "      <td>/content/drive/MyDrive/NN Dataset.zip (Unzippe...</td>\n",
              "      <td>Basketball</td>\n",
              "      <td>0</td>\n",
              "    </tr>\n",
              "    <tr>\n",
              "      <th>2120</th>\n",
              "      <td>/content/drive/MyDrive/NN Dataset.zip (Unzippe...</td>\n",
              "      <td>Basketball</td>\n",
              "      <td>0</td>\n",
              "    </tr>\n",
              "  </tbody>\n",
              "</table>\n",
              "<p>2121 rows × 3 columns</p>\n",
              "</div>\n",
              "      <button class=\"colab-df-convert\" onclick=\"convertToInteractive('df-3d43d560-2704-42cf-9092-2c6607648bab')\"\n",
              "              title=\"Convert this dataframe to an interactive table.\"\n",
              "              style=\"display:none;\">\n",
              "        \n",
              "  <svg xmlns=\"http://www.w3.org/2000/svg\" height=\"24px\"viewBox=\"0 0 24 24\"\n",
              "       width=\"24px\">\n",
              "    <path d=\"M0 0h24v24H0V0z\" fill=\"none\"/>\n",
              "    <path d=\"M18.56 5.44l.94 2.06.94-2.06 2.06-.94-2.06-.94-.94-2.06-.94 2.06-2.06.94zm-11 1L8.5 8.5l.94-2.06 2.06-.94-2.06-.94L8.5 2.5l-.94 2.06-2.06.94zm10 10l.94 2.06.94-2.06 2.06-.94-2.06-.94-.94-2.06-.94 2.06-2.06.94z\"/><path d=\"M17.41 7.96l-1.37-1.37c-.4-.4-.92-.59-1.43-.59-.52 0-1.04.2-1.43.59L10.3 9.45l-7.72 7.72c-.78.78-.78 2.05 0 2.83L4 21.41c.39.39.9.59 1.41.59.51 0 1.02-.2 1.41-.59l7.78-7.78 2.81-2.81c.8-.78.8-2.07 0-2.86zM5.41 20L4 18.59l7.72-7.72 1.47 1.35L5.41 20z\"/>\n",
              "  </svg>\n",
              "      </button>\n",
              "      \n",
              "  <style>\n",
              "    .colab-df-container {\n",
              "      display:flex;\n",
              "      flex-wrap:wrap;\n",
              "      gap: 12px;\n",
              "    }\n",
              "\n",
              "    .colab-df-convert {\n",
              "      background-color: #E8F0FE;\n",
              "      border: none;\n",
              "      border-radius: 50%;\n",
              "      cursor: pointer;\n",
              "      display: none;\n",
              "      fill: #1967D2;\n",
              "      height: 32px;\n",
              "      padding: 0 0 0 0;\n",
              "      width: 32px;\n",
              "    }\n",
              "\n",
              "    .colab-df-convert:hover {\n",
              "      background-color: #E2EBFA;\n",
              "      box-shadow: 0px 1px 2px rgba(60, 64, 67, 0.3), 0px 1px 3px 1px rgba(60, 64, 67, 0.15);\n",
              "      fill: #174EA6;\n",
              "    }\n",
              "\n",
              "    [theme=dark] .colab-df-convert {\n",
              "      background-color: #3B4455;\n",
              "      fill: #D2E3FC;\n",
              "    }\n",
              "\n",
              "    [theme=dark] .colab-df-convert:hover {\n",
              "      background-color: #434B5C;\n",
              "      box-shadow: 0px 1px 3px 1px rgba(0, 0, 0, 0.15);\n",
              "      filter: drop-shadow(0px 1px 2px rgba(0, 0, 0, 0.3));\n",
              "      fill: #FFFFFF;\n",
              "    }\n",
              "  </style>\n",
              "\n",
              "      <script>\n",
              "        const buttonEl =\n",
              "          document.querySelector('#df-3d43d560-2704-42cf-9092-2c6607648bab button.colab-df-convert');\n",
              "        buttonEl.style.display =\n",
              "          google.colab.kernel.accessAllowed ? 'block' : 'none';\n",
              "\n",
              "        async function convertToInteractive(key) {\n",
              "          const element = document.querySelector('#df-3d43d560-2704-42cf-9092-2c6607648bab');\n",
              "          const dataTable =\n",
              "            await google.colab.kernel.invokeFunction('convertToInteractive',\n",
              "                                                     [key], {});\n",
              "          if (!dataTable) return;\n",
              "\n",
              "          const docLinkHtml = 'Like what you see? Visit the ' +\n",
              "            '<a target=\"_blank\" href=https://colab.research.google.com/notebooks/data_table.ipynb>data table notebook</a>'\n",
              "            + ' to learn more about interactive tables.';\n",
              "          element.innerHTML = '';\n",
              "          dataTable['output_type'] = 'display_data';\n",
              "          await google.colab.output.renderOutput(dataTable, element);\n",
              "          const docLink = document.createElement('div');\n",
              "          docLink.innerHTML = docLinkHtml;\n",
              "          element.appendChild(docLink);\n",
              "        }\n",
              "      </script>\n",
              "    </div>\n",
              "  </div>\n",
              "  "
            ]
          },
          "metadata": {},
          "execution_count": 4
        }
      ]
    },
    {
      "cell_type": "markdown",
      "source": [
        "**Plotting Histogram on \"Label\" column to see the frequency of each Label**"
      ],
      "metadata": {
        "id": "n8fqOpALy3LC"
      }
    },
    {
      "cell_type": "code",
      "source": [
        "def printHistogram():\n",
        "  data=df['Label']\n",
        "  n, bins, patches = plt.hist(x=data, bins='auto', color='#0504aa',\n",
        "                              alpha=0.7, rwidth=0.85)\n",
        "  plt.grid(axis='y', alpha=0.75)\n",
        "  plt.xlabel('Value')\n",
        "  plt.ylabel('Frequency')\n",
        "  plt.title('Histogram of Frequency')"
      ],
      "metadata": {
        "id": "NB9MQSOm0Bwp"
      },
      "execution_count": 5,
      "outputs": []
    },
    {
      "cell_type": "code",
      "source": [
        "printHistogram()"
      ],
      "metadata": {
        "colab": {
          "base_uri": "https://localhost:8080/",
          "height": 295
        },
        "id": "9QcqCt2YJv-H",
        "outputId": "71d13305-e80e-42d7-b547-843d943bbe7d"
      },
      "execution_count": null,
      "outputs": [
        {
          "output_type": "display_data",
          "data": {
            "text/plain": [
              "<Figure size 432x288 with 1 Axes>"
            ],
            "image/png": "[encoded data removed]"
          },
          "metadata": {
            "needs_background": "light"
          }
        }
      ]
    },
    {
      "cell_type": "markdown",
      "source": [
        "**We concluded that there are actually Class imbalance**\n",
        "\n",
        "We could do further step in checking duplicate images\n",
        "\n",
        "\n",
        "\n",
        "\n",
        "\n",
        "---\n",
        "\n"
      ],
      "metadata": {
        "id": "NmUWjdNjzKZp"
      }
    },
    {
      "cell_type": "code",
      "source": [
        "! pip install duplicate_images"
      ],
      "metadata": {
        "colab": {
          "base_uri": "https://localhost:8080/"
        },
        "id": "vaqF-ie_16F9",
        "outputId": "69b78117-d691-4c5a-a5d2-8b8018b7ff78"
      },
      "execution_count": 6,
      "outputs": [
        {
          "output_type": "stream",
          "name": "stdout",
          "text": [
            "Looking in indexes: https://pypi.org/simple, https://us-python.pkg.dev/colab-wheels/public/simple/\n",
            "Requirement already satisfied: duplicate_images in /usr/local/lib/python3.8/dist-packages (0.6.4)\n",
            "Requirement already satisfied: pillow<10.0.0,>=9.0.1 in /usr/local/lib/python3.8/dist-packages (from duplicate_images) (9.3.0)\n",
            "Requirement already satisfied: numpy<2.0,>=1.23 in /usr/local/lib/python3.8/dist-packages (from duplicate_images) (1.23.5)\n",
            "Requirement already satisfied: Wand<0.7.0,>=0.6.5 in /usr/local/lib/python3.8/dist-packages (from duplicate_images) (0.6.10)\n",
            "Requirement already satisfied: coloredlogs<16.0,>=15.0 in /usr/local/lib/python3.8/dist-packages (from duplicate_images) (15.0.1)\n",
            "Requirement already satisfied: pillow-heif<0.8.0,>=0.7.0 in /usr/local/lib/python3.8/dist-packages (from duplicate_images) (0.7.2)\n",
            "Requirement already satisfied: tqdm<5.0.0,>=4.64.1 in /usr/local/lib/python3.8/dist-packages (from duplicate_images) (4.64.1)\n",
            "Requirement already satisfied: six<2.0.0,>=1.16.0 in /usr/local/lib/python3.8/dist-packages (from duplicate_images) (1.16.0)\n",
            "Requirement already satisfied: imagehash<5.0.0,>=4.3.0 in /usr/local/lib/python3.8/dist-packages (from duplicate_images) (4.3.1)\n",
            "Requirement already satisfied: humanfriendly>=9.1 in /usr/local/lib/python3.8/dist-packages (from coloredlogs<16.0,>=15.0->duplicate_images) (10.0)\n",
            "Requirement already satisfied: PyWavelets in /usr/local/lib/python3.8/dist-packages (from imagehash<5.0.0,>=4.3.0->duplicate_images) (1.4.1)\n",
            "Requirement already satisfied: scipy in /usr/local/lib/python3.8/dist-packages (from imagehash<5.0.0,>=4.3.0->duplicate_images) (1.9.3)\n",
            "Requirement already satisfied: cffi>=1.14.6 in /usr/local/lib/python3.8/dist-packages (from pillow-heif<0.8.0,>=0.7.0->duplicate_images) (1.15.1)\n",
            "Requirement already satisfied: pycparser in /usr/local/lib/python3.8/dist-packages (from cffi>=1.14.6->pillow-heif<0.8.0,>=0.7.0->duplicate_images) (2.21)\n"
          ]
        }
      ]
    },
    {
      "cell_type": "markdown",
      "source": [
        "Checking For Duplicate images through this command\n",
        ", ref=\"https://github.com/lene/DuplicateImages\""
      ],
      "metadata": {
        "id": "nU-C24M92UxT"
      }
    },
    {
      "cell_type": "code",
      "source": [
        "!find-dups '/content/drive/MyDrive/NN Dataset.zip (Unzipped Files)/Train/'"
      ],
      "metadata": {
        "colab": {
          "base_uri": "https://localhost:8080/"
        },
        "id": "iXuEvAZt2Tqr",
        "outputId": "3db41a15-3537-4a71-f440-2d42c0cc9b1f"
      },
      "execution_count": null,
      "outputs": [
        {
          "output_type": "stream",
          "name": "stdout",
          "text": [
            "\u001b[32m03:26:09\u001b[0m \u001b[1;30mINFO:\u001b[0m Scanning Train/\n",
            "\u001b[32m03:26:38\u001b[0m \u001b[1;30mINFO:\u001b[0m 1681 total files\n",
            "\u001b[32m03:26:38\u001b[0m \u001b[1;30mINFO:\u001b[0m Computing image hashes\n",
            "\u001b[32m03:26:38\u001b[0m \u001b[1;30mINFO:\u001b[0m No persistent storage for calculated image hashes set up\n",
            "\u001b[32m03:26:54\u001b[0m \u001b[1;30mINFO:\u001b[0m 1681 hashes calculated\n",
            "\u001b[32m03:26:54\u001b[0m \u001b[1;30mINFO:\u001b[0m Filtering duplicates\n",
            "\u001b[32m03:27:06\u001b[0m \u001b[1;30mINFO:\u001b[0m 182 matches\n",
            "/content/drive/MyDrive/NN Dataset.zip (Unzipped Files)/Train/Football_102.jpg /content/drive/MyDrive/NN Dataset.zip (Unzipped Files)/Train/Football_385.jpg\n",
            "/content/drive/MyDrive/NN Dataset.zip (Unzipped Files)/Train/Football_104.jpg /content/drive/MyDrive/NN Dataset.zip (Unzipped Files)/Train/Football_334.jpg\n",
            "/content/drive/MyDrive/NN Dataset.zip (Unzipped Files)/Train/Football_115.jpg /content/drive/MyDrive/NN Dataset.zip (Unzipped Files)/Train/Football_177.jpg\n",
            "/content/drive/MyDrive/NN Dataset.zip (Unzipped Files)/Train/Football_13.jpg /content/drive/MyDrive/NN Dataset.zip (Unzipped Files)/Train/Football_235.jpg\n",
            "/content/drive/MyDrive/NN Dataset.zip (Unzipped Files)/Train/Football_130.jpg /content/drive/MyDrive/NN Dataset.zip (Unzipped Files)/Train/Football_94.jpg\n",
            "/content/drive/MyDrive/NN Dataset.zip (Unzipped Files)/Train/Football_140.jpg /content/drive/MyDrive/NN Dataset.zip (Unzipped Files)/Train/Football_191.jpg\n",
            "/content/drive/MyDrive/NN Dataset.zip (Unzipped Files)/Train/Football_148.jpg /content/drive/MyDrive/NN Dataset.zip (Unzipped Files)/Train/Football_276.jpg\n",
            "/content/drive/MyDrive/NN Dataset.zip (Unzipped Files)/Train/Football_152.jpg /content/drive/MyDrive/NN Dataset.zip (Unzipped Files)/Train/Football_18.jpg\n",
            "/content/drive/MyDrive/NN Dataset.zip (Unzipped Files)/Train/Football_161.jpg /content/drive/MyDrive/NN Dataset.zip (Unzipped Files)/Train/Football_95.jpg\n",
            "/content/drive/MyDrive/NN Dataset.zip (Unzipped Files)/Train/Football_162.jpg /content/drive/MyDrive/NN Dataset.zip (Unzipped Files)/Train/Football_99.jpg\n",
            "/content/drive/MyDrive/NN Dataset.zip (Unzipped Files)/Train/Football_163.jpg /content/drive/MyDrive/NN Dataset.zip (Unzipped Files)/Train/Football_168.jpg\n",
            "/content/drive/MyDrive/NN Dataset.zip (Unzipped Files)/Train/Football_175.jpg /content/drive/MyDrive/NN Dataset.zip (Unzipped Files)/Train/Football_26.jpg\n",
            "/content/drive/MyDrive/NN Dataset.zip (Unzipped Files)/Train/Football_180.jpg /content/drive/MyDrive/NN Dataset.zip (Unzipped Files)/Train/Football_222.jpg\n",
            "/content/drive/MyDrive/NN Dataset.zip (Unzipped Files)/Train/Football_181.jpg /content/drive/MyDrive/NN Dataset.zip (Unzipped Files)/Train/Football_213.jpg\n",
            "/content/drive/MyDrive/NN Dataset.zip (Unzipped Files)/Train/Football_187.jpg /content/drive/MyDrive/NN Dataset.zip (Unzipped Files)/Train/Football_232.jpg\n",
            "/content/drive/MyDrive/NN Dataset.zip (Unzipped Files)/Train/Football_188.jpg /content/drive/MyDrive/NN Dataset.zip (Unzipped Files)/Train/Football_369.jpg\n",
            "/content/drive/MyDrive/NN Dataset.zip (Unzipped Files)/Train/Football_2.jpg /content/drive/MyDrive/NN Dataset.zip (Unzipped Files)/Train/Football_390.jpg\n",
            "/content/drive/MyDrive/NN Dataset.zip (Unzipped Files)/Train/Football_208.jpg /content/drive/MyDrive/NN Dataset.zip (Unzipped Files)/Train/Football_367.jpg\n",
            "/content/drive/MyDrive/NN Dataset.zip (Unzipped Files)/Train/Football_221.jpg /content/drive/MyDrive/NN Dataset.zip (Unzipped Files)/Train/Football_277.jpg\n",
            "/content/drive/MyDrive/NN Dataset.zip (Unzipped Files)/Train/Football_233.jpg /content/drive/MyDrive/NN Dataset.zip (Unzipped Files)/Train/Football_328.jpg\n",
            "/content/drive/MyDrive/NN Dataset.zip (Unzipped Files)/Train/Football_243.jpg /content/drive/MyDrive/NN Dataset.zip (Unzipped Files)/Train/Football_35.jpg\n",
            "/content/drive/MyDrive/NN Dataset.zip (Unzipped Files)/Train/Football_245.jpg /content/drive/MyDrive/NN Dataset.zip (Unzipped Files)/Train/Football_251.jpg\n",
            "/content/drive/MyDrive/NN Dataset.zip (Unzipped Files)/Train/Football_291.jpg /content/drive/MyDrive/NN Dataset.zip (Unzipped Files)/Train/Football_88.jpg\n",
            "/content/drive/MyDrive/NN Dataset.zip (Unzipped Files)/Train/Football_296.jpg /content/drive/MyDrive/NN Dataset.zip (Unzipped Files)/Train/Football_75.jpg\n",
            "/content/drive/MyDrive/NN Dataset.zip (Unzipped Files)/Train/Football_300.jpg /content/drive/MyDrive/NN Dataset.zip (Unzipped Files)/Train/Football_358.jpg\n",
            "/content/drive/MyDrive/NN Dataset.zip (Unzipped Files)/Train/Football_307.jpg /content/drive/MyDrive/NN Dataset.zip (Unzipped Files)/Train/Football_32.jpg\n",
            "/content/drive/MyDrive/NN Dataset.zip (Unzipped Files)/Train/Football_331.jpg /content/drive/MyDrive/NN Dataset.zip (Unzipped Files)/Train/Football_341.jpg\n",
            "/content/drive/MyDrive/NN Dataset.zip (Unzipped Files)/Train/Football_338.jpg /content/drive/MyDrive/NN Dataset.zip (Unzipped Files)/Train/Football_49.jpg\n",
            "/content/drive/MyDrive/NN Dataset.zip (Unzipped Files)/Train/Football_349.jpg /content/drive/MyDrive/NN Dataset.zip (Unzipped Files)/Train/Football_371.jpg\n",
            "/content/drive/MyDrive/NN Dataset.zip (Unzipped Files)/Train/Football_354.jpg /content/drive/MyDrive/NN Dataset.zip (Unzipped Files)/Train/Football_85.jpg\n",
            "/content/drive/MyDrive/NN Dataset.zip (Unzipped Files)/Train/Football_359.jpg /content/drive/MyDrive/NN Dataset.zip (Unzipped Files)/Train/Football_74.jpg\n",
            "/content/drive/MyDrive/NN Dataset.zip (Unzipped Files)/Train/Football_398.jpg /content/drive/MyDrive/NN Dataset.zip (Unzipped Files)/Train/Football_47.jpg\n",
            "/content/drive/MyDrive/NN Dataset.zip (Unzipped Files)/Train/Rowing_146.jpg /content/drive/MyDrive/NN Dataset.zip (Unzipped Files)/Train/Rowing_151.jpg\n",
            "/content/drive/MyDrive/NN Dataset.zip (Unzipped Files)/Train/Swimming_159.png /content/drive/MyDrive/NN Dataset.zip (Unzipped Files)/Train/Swimming_174.png\n",
            "/content/drive/MyDrive/NN Dataset.zip (Unzipped Files)/Train/Swimming_159.png /content/drive/MyDrive/NN Dataset.zip (Unzipped Files)/Train/Swimming_222.png\n",
            "/content/drive/MyDrive/NN Dataset.zip (Unzipped Files)/Train/Swimming_161.png /content/drive/MyDrive/NN Dataset.zip (Unzipped Files)/Train/Swimming_178.png\n",
            "/content/drive/MyDrive/NN Dataset.zip (Unzipped Files)/Train/Swimming_162.png /content/drive/MyDrive/NN Dataset.zip (Unzipped Files)/Train/Swimming_234.png\n",
            "/content/drive/MyDrive/NN Dataset.zip (Unzipped Files)/Train/Swimming_163.png /content/drive/MyDrive/NN Dataset.zip (Unzipped Files)/Train/Swimming_187.png\n",
            "/content/drive/MyDrive/NN Dataset.zip (Unzipped Files)/Train/Swimming_164.png /content/drive/MyDrive/NN Dataset.zip (Unzipped Files)/Train/Swimming_188.png\n",
            "/content/drive/MyDrive/NN Dataset.zip (Unzipped Files)/Train/Swimming_165.png /content/drive/MyDrive/NN Dataset.zip (Unzipped Files)/Train/Swimming_193.png\n",
            "/content/drive/MyDrive/NN Dataset.zip (Unzipped Files)/Train/Swimming_165.png /content/drive/MyDrive/NN Dataset.zip (Unzipped Files)/Train/Swimming_229.png\n",
            "/content/drive/MyDrive/NN Dataset.zip (Unzipped Files)/Train/Swimming_166.png /content/drive/MyDrive/NN Dataset.zip (Unzipped Files)/Train/Swimming_194.png\n",
            "/content/drive/MyDrive/NN Dataset.zip (Unzipped Files)/Train/Swimming_167.png /content/drive/MyDrive/NN Dataset.zip (Unzipped Files)/Train/Swimming_195.png\n",
            "/content/drive/MyDrive/NN Dataset.zip (Unzipped Files)/Train/Swimming_168.png /content/drive/MyDrive/NN Dataset.zip (Unzipped Files)/Train/Swimming_196.png\n",
            "/content/drive/MyDrive/NN Dataset.zip (Unzipped Files)/Train/Swimming_170.png /content/drive/MyDrive/NN Dataset.zip (Unzipped Files)/Train/Swimming_202.png\n",
            "/content/drive/MyDrive/NN Dataset.zip (Unzipped Files)/Train/Swimming_174.png /content/drive/MyDrive/NN Dataset.zip (Unzipped Files)/Train/Swimming_222.png\n",
            "/content/drive/MyDrive/NN Dataset.zip (Unzipped Files)/Train/Swimming_175.png /content/drive/MyDrive/NN Dataset.zip (Unzipped Files)/Train/Swimming_198.png\n",
            "/content/drive/MyDrive/NN Dataset.zip (Unzipped Files)/Train/Swimming_175.png /content/drive/MyDrive/NN Dataset.zip (Unzipped Files)/Train/Swimming_221.png\n",
            "/content/drive/MyDrive/NN Dataset.zip (Unzipped Files)/Train/Swimming_181.png /content/drive/MyDrive/NN Dataset.zip (Unzipped Files)/Train/Swimming_201.png\n",
            "/content/drive/MyDrive/NN Dataset.zip (Unzipped Files)/Train/Swimming_183.png /content/drive/MyDrive/NN Dataset.zip (Unzipped Files)/Train/Swimming_226.png\n",
            "/content/drive/MyDrive/NN Dataset.zip (Unzipped Files)/Train/Swimming_184.png /content/drive/MyDrive/NN Dataset.zip (Unzipped Files)/Train/Swimming_238.png\n",
            "/content/drive/MyDrive/NN Dataset.zip (Unzipped Files)/Train/Swimming_186.png /content/drive/MyDrive/NN Dataset.zip (Unzipped Files)/Train/Swimming_219.png\n",
            "/content/drive/MyDrive/NN Dataset.zip (Unzipped Files)/Train/Swimming_189.png /content/drive/MyDrive/NN Dataset.zip (Unzipped Files)/Train/Swimming_218.png\n",
            "/content/drive/MyDrive/NN Dataset.zip (Unzipped Files)/Train/Swimming_191.png /content/drive/MyDrive/NN Dataset.zip (Unzipped Files)/Train/Swimming_200.png\n",
            "/content/drive/MyDrive/NN Dataset.zip (Unzipped Files)/Train/Swimming_193.png /content/drive/MyDrive/NN Dataset.zip (Unzipped Files)/Train/Swimming_229.png\n",
            "/content/drive/MyDrive/NN Dataset.zip (Unzipped Files)/Train/Swimming_197.png /content/drive/MyDrive/NN Dataset.zip (Unzipped Files)/Train/Swimming_231.png\n",
            "/content/drive/MyDrive/NN Dataset.zip (Unzipped Files)/Train/Swimming_198.png /content/drive/MyDrive/NN Dataset.zip (Unzipped Files)/Train/Swimming_221.png\n",
            "/content/drive/MyDrive/NN Dataset.zip (Unzipped Files)/Train/Swimming_208.png /content/drive/MyDrive/NN Dataset.zip (Unzipped Files)/Train/Swimming_239.png\n",
            "/content/drive/MyDrive/NN Dataset.zip (Unzipped Files)/Train/Swimming_209.png /content/drive/MyDrive/NN Dataset.zip (Unzipped Files)/Train/Swimming_240.png\n",
            "/content/drive/MyDrive/NN Dataset.zip (Unzipped Files)/Train/Tennis_131.png /content/drive/MyDrive/NN Dataset.zip (Unzipped Files)/Train/Tennis_172.png\n",
            "/content/drive/MyDrive/NN Dataset.zip (Unzipped Files)/Train/Tennis_144.png /content/drive/MyDrive/NN Dataset.zip (Unzipped Files)/Train/Tennis_174.png\n",
            "/content/drive/MyDrive/NN Dataset.zip (Unzipped Files)/Train/Tennis_145.png /content/drive/MyDrive/NN Dataset.zip (Unzipped Files)/Train/Tennis_175.png\n",
            "/content/drive/MyDrive/NN Dataset.zip (Unzipped Files)/Train/Tennis_147.png /content/drive/MyDrive/NN Dataset.zip (Unzipped Files)/Train/Tennis_149.png\n",
            "/content/drive/MyDrive/NN Dataset.zip (Unzipped Files)/Train/Tennis_156.png /content/drive/MyDrive/NN Dataset.zip (Unzipped Files)/Train/Tennis_173.png\n",
            "/content/drive/MyDrive/NN Dataset.zip (Unzipped Files)/Train/Tennis_160.png /content/drive/MyDrive/NN Dataset.zip (Unzipped Files)/Train/Tennis_180.png\n",
            "/content/drive/MyDrive/NN Dataset.zip (Unzipped Files)/Train/Tennis_161.png /content/drive/MyDrive/NN Dataset.zip (Unzipped Files)/Train/Tennis_181.png\n",
            "/content/drive/MyDrive/NN Dataset.zip (Unzipped Files)/Train/Tennis_162.png /content/drive/MyDrive/NN Dataset.zip (Unzipped Files)/Train/Tennis_184.png\n",
            "/content/drive/MyDrive/NN Dataset.zip (Unzipped Files)/Train/Yoga_1.jpg /content/drive/MyDrive/NN Dataset.zip (Unzipped Files)/Train/Yoga_67.jpg\n",
            "/content/drive/MyDrive/NN Dataset.zip (Unzipped Files)/Train/Yoga_10.jpg /content/drive/MyDrive/NN Dataset.zip (Unzipped Files)/Train/Yoga_110.jpg\n",
            "/content/drive/MyDrive/NN Dataset.zip (Unzipped Files)/Train/Yoga_10.jpg /content/drive/MyDrive/NN Dataset.zip (Unzipped Files)/Train/Yoga_43.jpg\n",
            "/content/drive/MyDrive/NN Dataset.zip (Unzipped Files)/Train/Yoga_102.jpg /content/drive/MyDrive/NN Dataset.zip (Unzipped Files)/Train/Yoga_122.jpg\n",
            "/content/drive/MyDrive/NN Dataset.zip (Unzipped Files)/Train/Yoga_104.jpg /content/drive/MyDrive/NN Dataset.zip (Unzipped Files)/Train/Yoga_9.jpg\n",
            "/content/drive/MyDrive/NN Dataset.zip (Unzipped Files)/Train/Yoga_105.jpg /content/drive/MyDrive/NN Dataset.zip (Unzipped Files)/Train/Yoga_376.jpg\n",
            "/content/drive/MyDrive/NN Dataset.zip (Unzipped Files)/Train/Yoga_105.jpg /content/drive/MyDrive/NN Dataset.zip (Unzipped Files)/Train/Yoga_55.jpg\n",
            "/content/drive/MyDrive/NN Dataset.zip (Unzipped Files)/Train/Yoga_106.jpg /content/drive/MyDrive/NN Dataset.zip (Unzipped Files)/Train/Yoga_38.jpg\n",
            "/content/drive/MyDrive/NN Dataset.zip (Unzipped Files)/Train/Yoga_108.jpg /content/drive/MyDrive/NN Dataset.zip (Unzipped Files)/Train/Yoga_159.jpg\n",
            "/content/drive/MyDrive/NN Dataset.zip (Unzipped Files)/Train/Yoga_109.jpg /content/drive/MyDrive/NN Dataset.zip (Unzipped Files)/Train/Yoga_79.jpg\n",
            "/content/drive/MyDrive/NN Dataset.zip (Unzipped Files)/Train/Yoga_110.jpg /content/drive/MyDrive/NN Dataset.zip (Unzipped Files)/Train/Yoga_43.jpg\n",
            "/content/drive/MyDrive/NN Dataset.zip (Unzipped Files)/Train/Yoga_111.jpg /content/drive/MyDrive/NN Dataset.zip (Unzipped Files)/Train/Yoga_137.jpg\n",
            "/content/drive/MyDrive/NN Dataset.zip (Unzipped Files)/Train/Yoga_113.jpg /content/drive/MyDrive/NN Dataset.zip (Unzipped Files)/Train/Yoga_209.jpg\n",
            "/content/drive/MyDrive/NN Dataset.zip (Unzipped Files)/Train/Yoga_113.jpg /content/drive/MyDrive/NN Dataset.zip (Unzipped Files)/Train/Yoga_220.jpg\n",
            "/content/drive/MyDrive/NN Dataset.zip (Unzipped Files)/Train/Yoga_114.jpg /content/drive/MyDrive/NN Dataset.zip (Unzipped Files)/Train/Yoga_73.jpg\n",
            "/content/drive/MyDrive/NN Dataset.zip (Unzipped Files)/Train/Yoga_115.jpg /content/drive/MyDrive/NN Dataset.zip (Unzipped Files)/Train/Yoga_65.jpg\n",
            "/content/drive/MyDrive/NN Dataset.zip (Unzipped Files)/Train/Yoga_116.jpg /content/drive/MyDrive/NN Dataset.zip (Unzipped Files)/Train/Yoga_85.jpg\n",
            "/content/drive/MyDrive/NN Dataset.zip (Unzipped Files)/Train/Yoga_119.jpg /content/drive/MyDrive/NN Dataset.zip (Unzipped Files)/Train/Yoga_90.jpg\n",
            "/content/drive/MyDrive/NN Dataset.zip (Unzipped Files)/Train/Yoga_12.jpg /content/drive/MyDrive/NN Dataset.zip (Unzipped Files)/Train/Yoga_371.jpg\n",
            "/content/drive/MyDrive/NN Dataset.zip (Unzipped Files)/Train/Yoga_120.jpg /content/drive/MyDrive/NN Dataset.zip (Unzipped Files)/Train/Yoga_86.jpg\n",
            "/content/drive/MyDrive/NN Dataset.zip (Unzipped Files)/Train/Yoga_121.jpg /content/drive/MyDrive/NN Dataset.zip (Unzipped Files)/Train/Yoga_88.jpg\n",
            "/content/drive/MyDrive/NN Dataset.zip (Unzipped Files)/Train/Yoga_123.jpg /content/drive/MyDrive/NN Dataset.zip (Unzipped Files)/Train/Yoga_75.jpg\n",
            "/content/drive/MyDrive/NN Dataset.zip (Unzipped Files)/Train/Yoga_126.jpg /content/drive/MyDrive/NN Dataset.zip (Unzipped Files)/Train/Yoga_78.jpg\n",
            "/content/drive/MyDrive/NN Dataset.zip (Unzipped Files)/Train/Yoga_131.jpg /content/drive/MyDrive/NN Dataset.zip (Unzipped Files)/Train/Yoga_4.jpg\n",
            "/content/drive/MyDrive/NN Dataset.zip (Unzipped Files)/Train/Yoga_132.jpg /content/drive/MyDrive/NN Dataset.zip (Unzipped Files)/Train/Yoga_186.jpg\n",
            "/content/drive/MyDrive/NN Dataset.zip (Unzipped Files)/Train/Yoga_134.jpg /content/drive/MyDrive/NN Dataset.zip (Unzipped Files)/Train/Yoga_168.jpg\n",
            "/content/drive/MyDrive/NN Dataset.zip (Unzipped Files)/Train/Yoga_134.jpg /content/drive/MyDrive/NN Dataset.zip (Unzipped Files)/Train/Yoga_81.jpg\n",
            "/content/drive/MyDrive/NN Dataset.zip (Unzipped Files)/Train/Yoga_136.jpg /content/drive/MyDrive/NN Dataset.zip (Unzipped Files)/Train/Yoga_83.jpg\n",
            "/content/drive/MyDrive/NN Dataset.zip (Unzipped Files)/Train/Yoga_138.jpg /content/drive/MyDrive/NN Dataset.zip (Unzipped Files)/Train/Yoga_176.jpg\n",
            "/content/drive/MyDrive/NN Dataset.zip (Unzipped Files)/Train/Yoga_139.jpg /content/drive/MyDrive/NN Dataset.zip (Unzipped Files)/Train/Yoga_170.jpg\n",
            "/content/drive/MyDrive/NN Dataset.zip (Unzipped Files)/Train/Yoga_140.jpg /content/drive/MyDrive/NN Dataset.zip (Unzipped Files)/Train/Yoga_97.jpg\n",
            "/content/drive/MyDrive/NN Dataset.zip (Unzipped Files)/Train/Yoga_141.jpg /content/drive/MyDrive/NN Dataset.zip (Unzipped Files)/Train/Yoga_182.jpg\n",
            "/content/drive/MyDrive/NN Dataset.zip (Unzipped Files)/Train/Yoga_142.jpg /content/drive/MyDrive/NN Dataset.zip (Unzipped Files)/Train/Yoga_91.jpg\n",
            "/content/drive/MyDrive/NN Dataset.zip (Unzipped Files)/Train/Yoga_143.jpg /content/drive/MyDrive/NN Dataset.zip (Unzipped Files)/Train/Yoga_178.jpg\n",
            "/content/drive/MyDrive/NN Dataset.zip (Unzipped Files)/Train/Yoga_144.jpg /content/drive/MyDrive/NN Dataset.zip (Unzipped Files)/Train/Yoga_179.jpg\n",
            "/content/drive/MyDrive/NN Dataset.zip (Unzipped Files)/Train/Yoga_146.jpg /content/drive/MyDrive/NN Dataset.zip (Unzipped Files)/Train/Yoga_184.jpg\n",
            "/content/drive/MyDrive/NN Dataset.zip (Unzipped Files)/Train/Yoga_147.jpg /content/drive/MyDrive/NN Dataset.zip (Unzipped Files)/Train/Yoga_185.jpg\n",
            "/content/drive/MyDrive/NN Dataset.zip (Unzipped Files)/Train/Yoga_147.jpg /content/drive/MyDrive/NN Dataset.zip (Unzipped Files)/Train/Yoga_82.jpg\n",
            "/content/drive/MyDrive/NN Dataset.zip (Unzipped Files)/Train/Yoga_148.jpg /content/drive/MyDrive/NN Dataset.zip (Unzipped Files)/Train/Yoga_171.jpg\n",
            "/content/drive/MyDrive/NN Dataset.zip (Unzipped Files)/Train/Yoga_150.jpg /content/drive/MyDrive/NN Dataset.zip (Unzipped Files)/Train/Yoga_187.jpg\n",
            "/content/drive/MyDrive/NN Dataset.zip (Unzipped Files)/Train/Yoga_151.jpg /content/drive/MyDrive/NN Dataset.zip (Unzipped Files)/Train/Yoga_189.jpg\n",
            "/content/drive/MyDrive/NN Dataset.zip (Unzipped Files)/Train/Yoga_152.jpg /content/drive/MyDrive/NN Dataset.zip (Unzipped Files)/Train/Yoga_94.jpg\n",
            "/content/drive/MyDrive/NN Dataset.zip (Unzipped Files)/Train/Yoga_154.jpg /content/drive/MyDrive/NN Dataset.zip (Unzipped Files)/Train/Yoga_166.jpg\n",
            "/content/drive/MyDrive/NN Dataset.zip (Unzipped Files)/Train/Yoga_155.jpg /content/drive/MyDrive/NN Dataset.zip (Unzipped Files)/Train/Yoga_77.jpg\n",
            "/content/drive/MyDrive/NN Dataset.zip (Unzipped Files)/Train/Yoga_157.jpg /content/drive/MyDrive/NN Dataset.zip (Unzipped Files)/Train/Yoga_169.jpg\n",
            "/content/drive/MyDrive/NN Dataset.zip (Unzipped Files)/Train/Yoga_160.jpg /content/drive/MyDrive/NN Dataset.zip (Unzipped Files)/Train/Yoga_175.jpg\n",
            "/content/drive/MyDrive/NN Dataset.zip (Unzipped Files)/Train/Yoga_161.jpg /content/drive/MyDrive/NN Dataset.zip (Unzipped Files)/Train/Yoga_172.jpg\n",
            "/content/drive/MyDrive/NN Dataset.zip (Unzipped Files)/Train/Yoga_168.jpg /content/drive/MyDrive/NN Dataset.zip (Unzipped Files)/Train/Yoga_81.jpg\n",
            "/content/drive/MyDrive/NN Dataset.zip (Unzipped Files)/Train/Yoga_177.jpg /content/drive/MyDrive/NN Dataset.zip (Unzipped Files)/Train/Yoga_232.jpg\n",
            "/content/drive/MyDrive/NN Dataset.zip (Unzipped Files)/Train/Yoga_18.jpg /content/drive/MyDrive/NN Dataset.zip (Unzipped Files)/Train/Yoga_92.jpg\n",
            "/content/drive/MyDrive/NN Dataset.zip (Unzipped Files)/Train/Yoga_180.jpg /content/drive/MyDrive/NN Dataset.zip (Unzipped Files)/Train/Yoga_218.jpg\n",
            "/content/drive/MyDrive/NN Dataset.zip (Unzipped Files)/Train/Yoga_181.jpg /content/drive/MyDrive/NN Dataset.zip (Unzipped Files)/Train/Yoga_317.jpg\n",
            "/content/drive/MyDrive/NN Dataset.zip (Unzipped Files)/Train/Yoga_183.jpg /content/drive/MyDrive/NN Dataset.zip (Unzipped Files)/Train/Yoga_58.jpg\n",
            "/content/drive/MyDrive/NN Dataset.zip (Unzipped Files)/Train/Yoga_185.jpg /content/drive/MyDrive/NN Dataset.zip (Unzipped Files)/Train/Yoga_82.jpg\n",
            "/content/drive/MyDrive/NN Dataset.zip (Unzipped Files)/Train/Yoga_199.jpg /content/drive/MyDrive/NN Dataset.zip (Unzipped Files)/Train/Yoga_312.jpg\n",
            "/content/drive/MyDrive/NN Dataset.zip (Unzipped Files)/Train/Yoga_20.jpg /content/drive/MyDrive/NN Dataset.zip (Unzipped Files)/Train/Yoga_391.jpg\n",
            "/content/drive/MyDrive/NN Dataset.zip (Unzipped Files)/Train/Yoga_201.jpg /content/drive/MyDrive/NN Dataset.zip (Unzipped Files)/Train/Yoga_230.jpg\n",
            "/content/drive/MyDrive/NN Dataset.zip (Unzipped Files)/Train/Yoga_202.jpg /content/drive/MyDrive/NN Dataset.zip (Unzipped Files)/Train/Yoga_221.jpg\n",
            "/content/drive/MyDrive/NN Dataset.zip (Unzipped Files)/Train/Yoga_203.jpg /content/drive/MyDrive/NN Dataset.zip (Unzipped Files)/Train/Yoga_301.jpg\n",
            "/content/drive/MyDrive/NN Dataset.zip (Unzipped Files)/Train/Yoga_205.jpg /content/drive/MyDrive/NN Dataset.zip (Unzipped Files)/Train/Yoga_222.jpg\n",
            "/content/drive/MyDrive/NN Dataset.zip (Unzipped Files)/Train/Yoga_207.jpg /content/drive/MyDrive/NN Dataset.zip (Unzipped Files)/Train/Yoga_223.jpg\n",
            "/content/drive/MyDrive/NN Dataset.zip (Unzipped Files)/Train/Yoga_209.jpg /content/drive/MyDrive/NN Dataset.zip (Unzipped Files)/Train/Yoga_220.jpg\n",
            "/content/drive/MyDrive/NN Dataset.zip (Unzipped Files)/Train/Yoga_21.jpg /content/drive/MyDrive/NN Dataset.zip (Unzipped Files)/Train/Yoga_51.jpg\n",
            "/content/drive/MyDrive/NN Dataset.zip (Unzipped Files)/Train/Yoga_210.jpg /content/drive/MyDrive/NN Dataset.zip (Unzipped Files)/Train/Yoga_219.jpg\n",
            "/content/drive/MyDrive/NN Dataset.zip (Unzipped Files)/Train/Yoga_211.jpg /content/drive/MyDrive/NN Dataset.zip (Unzipped Files)/Train/Yoga_233.jpg\n",
            "/content/drive/MyDrive/NN Dataset.zip (Unzipped Files)/Train/Yoga_214.jpg /content/drive/MyDrive/NN Dataset.zip (Unzipped Files)/Train/Yoga_235.jpg\n",
            "/content/drive/MyDrive/NN Dataset.zip (Unzipped Files)/Train/Yoga_215.jpg /content/drive/MyDrive/NN Dataset.zip (Unzipped Files)/Train/Yoga_267.jpg\n",
            "/content/drive/MyDrive/NN Dataset.zip (Unzipped Files)/Train/Yoga_216.jpg /content/drive/MyDrive/NN Dataset.zip (Unzipped Files)/Train/Yoga_226.jpg\n",
            "/content/drive/MyDrive/NN Dataset.zip (Unzipped Files)/Train/Yoga_224.jpg /content/drive/MyDrive/NN Dataset.zip (Unzipped Files)/Train/Yoga_388.jpg\n",
            "/content/drive/MyDrive/NN Dataset.zip (Unzipped Files)/Train/Yoga_234.jpg /content/drive/MyDrive/NN Dataset.zip (Unzipped Files)/Train/Yoga_74.jpg\n",
            "/content/drive/MyDrive/NN Dataset.zip (Unzipped Files)/Train/Yoga_239.jpg /content/drive/MyDrive/NN Dataset.zip (Unzipped Files)/Train/Yoga_98.jpg\n",
            "/content/drive/MyDrive/NN Dataset.zip (Unzipped Files)/Train/Yoga_24.jpg /content/drive/MyDrive/NN Dataset.zip (Unzipped Files)/Train/Yoga_386.jpg\n",
            "/content/drive/MyDrive/NN Dataset.zip (Unzipped Files)/Train/Yoga_244.jpg /content/drive/MyDrive/NN Dataset.zip (Unzipped Files)/Train/Yoga_99.jpg\n",
            "/content/drive/MyDrive/NN Dataset.zip (Unzipped Files)/Train/Yoga_252.jpg /content/drive/MyDrive/NN Dataset.zip (Unzipped Files)/Train/Yoga_273.jpg\n",
            "/content/drive/MyDrive/NN Dataset.zip (Unzipped Files)/Train/Yoga_254.jpg /content/drive/MyDrive/NN Dataset.zip (Unzipped Files)/Train/Yoga_268.jpg\n",
            "/content/drive/MyDrive/NN Dataset.zip (Unzipped Files)/Train/Yoga_258.jpg /content/drive/MyDrive/NN Dataset.zip (Unzipped Files)/Train/Yoga_276.jpg\n",
            "/content/drive/MyDrive/NN Dataset.zip (Unzipped Files)/Train/Yoga_258.jpg /content/drive/MyDrive/NN Dataset.zip (Unzipped Files)/Train/Yoga_305.jpg\n",
            "/content/drive/MyDrive/NN Dataset.zip (Unzipped Files)/Train/Yoga_259.jpg /content/drive/MyDrive/NN Dataset.zip (Unzipped Files)/Train/Yoga_275.jpg\n",
            "/content/drive/MyDrive/NN Dataset.zip (Unzipped Files)/Train/Yoga_261.jpg /content/drive/MyDrive/NN Dataset.zip (Unzipped Files)/Train/Yoga_277.jpg\n",
            "/content/drive/MyDrive/NN Dataset.zip (Unzipped Files)/Train/Yoga_263.jpg /content/drive/MyDrive/NN Dataset.zip (Unzipped Files)/Train/Yoga_278.jpg\n",
            "/content/drive/MyDrive/NN Dataset.zip (Unzipped Files)/Train/Yoga_276.jpg /content/drive/MyDrive/NN Dataset.zip (Unzipped Files)/Train/Yoga_305.jpg\n",
            "/content/drive/MyDrive/NN Dataset.zip (Unzipped Files)/Train/Yoga_28.jpg /content/drive/MyDrive/NN Dataset.zip (Unzipped Files)/Train/Yoga_53.jpg\n",
            "/content/drive/MyDrive/NN Dataset.zip (Unzipped Files)/Train/Yoga_281.jpg /content/drive/MyDrive/NN Dataset.zip (Unzipped Files)/Train/Yoga_296.jpg\n",
            "/content/drive/MyDrive/NN Dataset.zip (Unzipped Files)/Train/Yoga_287.jpg /content/drive/MyDrive/NN Dataset.zip (Unzipped Files)/Train/Yoga_320.jpg\n",
            "/content/drive/MyDrive/NN Dataset.zip (Unzipped Files)/Train/Yoga_289.jpg /content/drive/MyDrive/NN Dataset.zip (Unzipped Files)/Train/Yoga_316.jpg\n",
            "/content/drive/MyDrive/NN Dataset.zip (Unzipped Files)/Train/Yoga_290.jpg /content/drive/MyDrive/NN Dataset.zip (Unzipped Files)/Train/Yoga_307.jpg\n",
            "/content/drive/MyDrive/NN Dataset.zip (Unzipped Files)/Train/Yoga_293.jpg /content/drive/MyDrive/NN Dataset.zip (Unzipped Files)/Train/Yoga_311.jpg\n",
            "/content/drive/MyDrive/NN Dataset.zip (Unzipped Files)/Train/Yoga_295.jpg /content/drive/MyDrive/NN Dataset.zip (Unzipped Files)/Train/Yoga_313.jpg\n",
            "/content/drive/MyDrive/NN Dataset.zip (Unzipped Files)/Train/Yoga_295.jpg /content/drive/MyDrive/NN Dataset.zip (Unzipped Files)/Train/Yoga_323.jpg\n",
            "/content/drive/MyDrive/NN Dataset.zip (Unzipped Files)/Train/Yoga_300.jpg /content/drive/MyDrive/NN Dataset.zip (Unzipped Files)/Train/Yoga_62.jpg\n",
            "/content/drive/MyDrive/NN Dataset.zip (Unzipped Files)/Train/Yoga_302.jpg /content/drive/MyDrive/NN Dataset.zip (Unzipped Files)/Train/Yoga_343.jpg\n",
            "/content/drive/MyDrive/NN Dataset.zip (Unzipped Files)/Train/Yoga_303.jpg /content/drive/MyDrive/NN Dataset.zip (Unzipped Files)/Train/Yoga_339.jpg\n",
            "/content/drive/MyDrive/NN Dataset.zip (Unzipped Files)/Train/Yoga_31.jpg /content/drive/MyDrive/NN Dataset.zip (Unzipped Files)/Train/Yoga_70.jpg\n",
            "/content/drive/MyDrive/NN Dataset.zip (Unzipped Files)/Train/Yoga_313.jpg /content/drive/MyDrive/NN Dataset.zip (Unzipped Files)/Train/Yoga_323.jpg\n",
            "/content/drive/MyDrive/NN Dataset.zip (Unzipped Files)/Train/Yoga_315.jpg /content/drive/MyDrive/NN Dataset.zip (Unzipped Files)/Train/Yoga_322.jpg\n",
            "/content/drive/MyDrive/NN Dataset.zip (Unzipped Files)/Train/Yoga_319.jpg /content/drive/MyDrive/NN Dataset.zip (Unzipped Files)/Train/Yoga_327.jpg\n",
            "/content/drive/MyDrive/NN Dataset.zip (Unzipped Files)/Train/Yoga_333.jpg /content/drive/MyDrive/NN Dataset.zip (Unzipped Files)/Train/Yoga_338.jpg\n",
            "/content/drive/MyDrive/NN Dataset.zip (Unzipped Files)/Train/Yoga_334.jpg /content/drive/MyDrive/NN Dataset.zip (Unzipped Files)/Train/Yoga_337.jpg\n",
            "/content/drive/MyDrive/NN Dataset.zip (Unzipped Files)/Train/Yoga_346.jpg /content/drive/MyDrive/NN Dataset.zip (Unzipped Files)/Train/Yoga_349.jpg\n",
            "/content/drive/MyDrive/NN Dataset.zip (Unzipped Files)/Train/Yoga_35.jpg /content/drive/MyDrive/NN Dataset.zip (Unzipped Files)/Train/Yoga_59.jpg\n",
            "/content/drive/MyDrive/NN Dataset.zip (Unzipped Files)/Train/Yoga_36.jpg /content/drive/MyDrive/NN Dataset.zip (Unzipped Files)/Train/Yoga_63.jpg\n",
            "/content/drive/MyDrive/NN Dataset.zip (Unzipped Files)/Train/Yoga_376.jpg /content/drive/MyDrive/NN Dataset.zip (Unzipped Files)/Train/Yoga_55.jpg\n",
            "/content/drive/MyDrive/NN Dataset.zip (Unzipped Files)/Train/Yoga_389.jpg /content/drive/MyDrive/NN Dataset.zip (Unzipped Files)/Train/Yoga_40.jpg\n",
            "/content/drive/MyDrive/NN Dataset.zip (Unzipped Files)/Train/Yoga_39.jpg /content/drive/MyDrive/NN Dataset.zip (Unzipped Files)/Train/Yoga_60.jpg\n",
            "/content/drive/MyDrive/NN Dataset.zip (Unzipped Files)/Train/Yoga_394.png /content/drive/MyDrive/NN Dataset.zip (Unzipped Files)/Train/Yoga_409.png\n",
            "/content/drive/MyDrive/NN Dataset.zip (Unzipped Files)/Train/Yoga_398.png /content/drive/MyDrive/NN Dataset.zip (Unzipped Files)/Train/Yoga_412.png\n",
            "/content/drive/MyDrive/NN Dataset.zip (Unzipped Files)/Train/Yoga_399.png /content/drive/MyDrive/NN Dataset.zip (Unzipped Files)/Train/Yoga_415.png\n",
            "/content/drive/MyDrive/NN Dataset.zip (Unzipped Files)/Train/Yoga_417.png /content/drive/MyDrive/NN Dataset.zip (Unzipped Files)/Train/Yoga_438.png\n",
            "/content/drive/MyDrive/NN Dataset.zip (Unzipped Files)/Train/Yoga_418.png /content/drive/MyDrive/NN Dataset.zip (Unzipped Files)/Train/Yoga_439.png\n",
            "/content/drive/MyDrive/NN Dataset.zip (Unzipped Files)/Train/Yoga_419.png /content/drive/MyDrive/NN Dataset.zip (Unzipped Files)/Train/Yoga_450.png\n",
            "/content/drive/MyDrive/NN Dataset.zip (Unzipped Files)/Train/Yoga_420.png /content/drive/MyDrive/NN Dataset.zip (Unzipped Files)/Train/Yoga_451.png\n",
            "/content/drive/MyDrive/NN Dataset.zip (Unzipped Files)/Train/Yoga_428.png /content/drive/MyDrive/NN Dataset.zip (Unzipped Files)/Train/Yoga_429.png\n",
            "/content/drive/MyDrive/NN Dataset.zip (Unzipped Files)/Train/Yoga_44.jpg /content/drive/MyDrive/NN Dataset.zip (Unzipped Files)/Train/Yoga_87.jpg\n",
            "/content/drive/MyDrive/NN Dataset.zip (Unzipped Files)/Train/Yoga_47.jpg /content/drive/MyDrive/NN Dataset.zip (Unzipped Files)/Train/Yoga_89.jpg\n",
            "/content/drive/MyDrive/NN Dataset.zip (Unzipped Files)/Train/Yoga_49.jpg /content/drive/MyDrive/NN Dataset.zip (Unzipped Files)/Train/Yoga_76.jpg\n"
          ]
        }
      ]
    },
    {
      "cell_type": "markdown",
      "source": [
        "**This command returned 182 matches (pair of duplicate images) in \"Train\" folder**\n",
        "\n",
        "**We could check this by printing pair of images to validate that they're duplicates**"
      ],
      "metadata": {
        "id": "1heAEzE5_JJo"
      }
    },
    {
      "cell_type": "code",
      "source": [
        "# Displaying 1st image\n",
        "image1= cv2.imread('/content/drive/MyDrive/NN Dataset.zip (Unzipped Files)/Train/Yoga_110.jpg')\n",
        "plt.imshow(cv2.cvtColor(image1, cv2.COLOR_BGR2RGB))"
      ],
      "metadata": {
        "colab": {
          "base_uri": "https://localhost:8080/",
          "height": 286
        },
        "id": "l3lY_cZXBgJM",
        "outputId": "dbded90f-bcde-4391-d087-3d1b91cc66c6"
      },
      "execution_count": null,
      "outputs": [
        {
          "output_type": "execute_result",
          "data": {
            "text/plain": [
              "<matplotlib.image.AxesImage at 0x7f73f79bdd60>"
            ]
          },
          "metadata": {},
          "execution_count": 10
        },
        {
          "output_type": "display_data",
          "data": {
            "text/plain": [
              "<Figure size 432x288 with 1 Axes>"
            ],
            "image/png": "[encoded data removed]"
          },
          "metadata": {
            "needs_background": "light"
          }
        }
      ]
    },
    {
      "cell_type": "code",
      "source": [
        "# Displaying 2nd image\n",
        "image2= cv2.imread('/content/drive/MyDrive/NN Dataset.zip (Unzipped Files)/Train/Yoga_43.jpg')\n",
        "plt.imshow(cv2.cvtColor(image2, cv2.COLOR_BGR2RGB))"
      ],
      "metadata": {
        "colab": {
          "base_uri": "https://localhost:8080/",
          "height": 286
        },
        "id": "HrSV2fAKBw5e",
        "outputId": "71b66382-f193-4625-f2cb-67d35cc68fd4"
      },
      "execution_count": null,
      "outputs": [
        {
          "output_type": "execute_result",
          "data": {
            "text/plain": [
              "<matplotlib.image.AxesImage at 0x7f73f7921340>"
            ]
          },
          "metadata": {},
          "execution_count": 11
        },
        {
          "output_type": "display_data",
          "data": {
            "text/plain": [
              "<Figure size 432x288 with 1 Axes>"
            ],
            "image/png": "[encoded data removed]"
          },
          "metadata": {
            "needs_background": "light"
          }
        }
      ]
    },
    {
      "cell_type": "markdown",
      "source": [
        "**Those are completely different image files (Yoga_110 & Yoga_43) But they're duplicates**\n",
        "\n",
        "**We should then remove those duplicates**"
      ],
      "metadata": {
        "id": "y7wg6o37CnT1"
      }
    },
    {
      "cell_type": "code",
      "source": [
        "!find-dups '/content/drive/MyDrive/NN Dataset.zip (Unzipped Files)/Train/' --on-equal delete-bigger"
      ],
      "metadata": {
        "colab": {
          "base_uri": "https://localhost:8080/"
        },
        "id": "tPpJp-HRD0LY",
        "outputId": "04c7ce8e-e785-4122-c24c-81351403359f"
      },
      "execution_count": null,
      "outputs": [
        {
          "output_type": "stream",
          "name": "stdout",
          "text": [
            "\u001b[32m15:45:02\u001b[0m \u001b[1;30mINFO:\u001b[0m Scanning Train/\n",
            "\u001b[32m15:45:06\u001b[0m \u001b[1;30mINFO:\u001b[0m 1678 total files\n",
            "\u001b[32m15:45:06\u001b[0m \u001b[1;30mINFO:\u001b[0m Computing image hashes\n",
            "\u001b[32m15:45:06\u001b[0m \u001b[1;30mINFO:\u001b[0m No persistent storage for calculated image hashes set up\n",
            "\u001b[32m15:45:19\u001b[0m \u001b[1;30mINFO:\u001b[0m 1678 hashes calculated\n",
            "\u001b[32m15:45:19\u001b[0m \u001b[1;30mINFO:\u001b[0m Filtering duplicates\n",
            "\u001b[32m15:45:30\u001b[0m \u001b[1;30mINFO:\u001b[0m 155 matches\n",
            "\u001b[32m15:45:30\u001b[0m \u001b[1;30mINFO:\u001b[0m Deleted Train/Basketball_155 (197).jpg\n",
            "\u001b[32m15:45:30\u001b[0m \u001b[1;30mINFO:\u001b[0m Deleted Train/Basketball_155 (208).jpg\n",
            "\u001b[32m15:45:30\u001b[0m \u001b[1;30mINFO:\u001b[0m Deleted Train/Basketball_155 (302).jpg\n",
            "\u001b[32m15:45:30\u001b[0m \u001b[1;30mINFO:\u001b[0m Deleted Train/Basketball_155 (304).jpg\n",
            "\u001b[32m15:45:30\u001b[0m \u001b[1;30mINFO:\u001b[0m Deleted Train/Basketball_155 (305).jpg\n",
            "\u001b[32m15:45:30\u001b[0m \u001b[1;30mINFO:\u001b[0m Deleted Train/Basketball_155 (306).jpg\n",
            "\u001b[32m15:45:30\u001b[0m \u001b[1;30mINFO:\u001b[0m Deleted Train/Basketball_155 (307).jpg\n",
            "\u001b[32m15:45:30\u001b[0m \u001b[1;30mINFO:\u001b[0m Deleted Train/Basketball_155 (308).jpg\n",
            "\u001b[32m15:45:30\u001b[0m \u001b[1;30mINFO:\u001b[0m Deleted Train/Basketball_155 (309).jpg\n",
            "\u001b[32m15:45:30\u001b[0m \u001b[1;30mINFO:\u001b[0m Deleted Train/Basketball_155 (310).jpg\n",
            "\u001b[32m15:45:30\u001b[0m \u001b[1;30mINFO:\u001b[0m Deleted Train/Basketball_155 (209).jpg\n",
            "\u001b[32m15:45:30\u001b[0m \u001b[1;30mINFO:\u001b[0m Deleted Train/Basketball_155 (311).jpg\n",
            "\u001b[32m15:45:30\u001b[0m \u001b[1;30mINFO:\u001b[0m Deleted Train/Basketball_155 (312).jpg\n",
            "\u001b[32m15:45:30\u001b[0m \u001b[1;30mINFO:\u001b[0m Deleted Train/Basketball_155 (313).jpg\n",
            "\u001b[32m15:45:30\u001b[0m \u001b[1;30mINFO:\u001b[0m Deleted Train/Basketball_155 (314).jpg\n",
            "\u001b[32m15:45:30\u001b[0m \u001b[1;30mINFO:\u001b[0m Deleted Train/Basketball_155 (315).jpg\n",
            "\u001b[32m15:45:30\u001b[0m \u001b[1;30mINFO:\u001b[0m Deleted Train/Basketball_155 (316).jpg\n",
            "\u001b[32m15:45:30\u001b[0m \u001b[1;30mINFO:\u001b[0m Deleted Train/Basketball_155 (317).jpg\n",
            "\u001b[32m15:45:30\u001b[0m \u001b[1;30mINFO:\u001b[0m Deleted Train/Basketball_155 (318).jpg\n",
            "\u001b[32m15:45:30\u001b[0m \u001b[1;30mINFO:\u001b[0m Deleted Train/Basketball_155 (319).jpg\n",
            "\u001b[32m15:45:30\u001b[0m \u001b[1;30mINFO:\u001b[0m Deleted Train/Basketball_155 (210).jpg\n",
            "\u001b[32m15:45:30\u001b[0m \u001b[1;30mINFO:\u001b[0m Deleted Train/Basketball_155 (320).jpg\n",
            "\u001b[32m15:45:30\u001b[0m \u001b[1;30mINFO:\u001b[0m Deleted Train/Basketball_155 (321).jpg\n",
            "\u001b[32m15:45:30\u001b[0m \u001b[1;30mINFO:\u001b[0m Deleted Train/Basketball_155 (322).jpg\n",
            "\u001b[32m15:45:30\u001b[0m \u001b[1;30mINFO:\u001b[0m Deleted Train/Basketball_155 (323).jpg\n",
            "\u001b[32m15:45:30\u001b[0m \u001b[1;30mINFO:\u001b[0m Deleted Train/Basketball_155 (325).jpg\n",
            "\u001b[32m15:45:30\u001b[0m \u001b[1;30mINFO:\u001b[0m Deleted Train/Basketball_155 (326).jpg\n",
            "\u001b[32m15:45:30\u001b[0m \u001b[1;30mINFO:\u001b[0m Deleted Train/Basketball_155 (327).jpg\n",
            "\u001b[32m15:45:30\u001b[0m \u001b[1;30mINFO:\u001b[0m Deleted Train/Basketball_155 (328).jpg\n",
            "\u001b[32m15:45:30\u001b[0m \u001b[1;30mINFO:\u001b[0m Deleted Train/Basketball_155 (329).jpg\n",
            "\u001b[32m15:45:30\u001b[0m \u001b[1;30mINFO:\u001b[0m Deleted Train/Basketball_155 (211).jpg\n",
            "\u001b[32m15:45:30\u001b[0m \u001b[1;30mINFO:\u001b[0m Deleted Train/Basketball_155 (330).jpg\n",
            "\u001b[32m15:45:30\u001b[0m \u001b[1;30mINFO:\u001b[0m Deleted Train/Basketball_155 (331).jpg\n",
            "\u001b[32m15:45:30\u001b[0m \u001b[1;30mINFO:\u001b[0m Deleted Train/Basketball_155 (332).jpg\n",
            "\u001b[32m15:45:30\u001b[0m \u001b[1;30mINFO:\u001b[0m Deleted Train/Basketball_155 (333).jpg\n",
            "\u001b[32m15:45:30\u001b[0m \u001b[1;30mINFO:\u001b[0m Deleted Train/Basketball_155 (334).jpg\n",
            "\u001b[32m15:45:30\u001b[0m \u001b[1;30mINFO:\u001b[0m Deleted Train/Basketball_155 (335).jpg\n",
            "\u001b[32m15:45:30\u001b[0m \u001b[1;30mINFO:\u001b[0m Deleted Train/Basketball_155 (336).jpg\n",
            "\u001b[32m15:45:30\u001b[0m \u001b[1;30mINFO:\u001b[0m Deleted Train/Basketball_155 (337).jpg\n",
            "\u001b[32m15:45:30\u001b[0m \u001b[1;30mINFO:\u001b[0m Deleted Train/Basketball_155 (170).jpg\n",
            "\u001b[32m15:45:30\u001b[0m \u001b[1;30mINFO:\u001b[0m Deleted Train/Basketball_155 (171).jpg\n",
            "\u001b[32m15:45:30\u001b[0m \u001b[1;30mINFO:\u001b[0m Deleted Train/Basketball_155 (212).jpg\n",
            "\u001b[32m15:45:30\u001b[0m \u001b[1;30mINFO:\u001b[0m Deleted Train/Basketball_155 (172).jpg\n",
            "\u001b[32m15:45:30\u001b[0m \u001b[1;30mINFO:\u001b[0m Deleted Train/Basketball_155 (173).jpg\n",
            "\u001b[32m15:45:30\u001b[0m \u001b[1;30mINFO:\u001b[0m Deleted Train/Basketball_155 (174).jpg\n",
            "\u001b[32m15:45:30\u001b[0m \u001b[1;30mINFO:\u001b[0m Deleted Train/Basketball_155 (175).jpg\n",
            "\u001b[32m15:45:30\u001b[0m \u001b[1;30mINFO:\u001b[0m Deleted Train/Basketball_155 (176).jpg\n",
            "\u001b[32m15:45:30\u001b[0m \u001b[1;30mINFO:\u001b[0m Deleted Train/Basketball_155 (1).jpg\n",
            "\u001b[32m15:45:30\u001b[0m \u001b[1;30mINFO:\u001b[0m Deleted Train/Basketball_155 (177).jpg\n",
            "\u001b[32m15:45:30\u001b[0m \u001b[1;30mINFO:\u001b[0m Deleted Train/Basketball_155 (178).jpg\n",
            "\u001b[32m15:45:30\u001b[0m \u001b[1;30mINFO:\u001b[0m Deleted Train/Basketball_155 (179).jpg\n",
            "\u001b[32m15:45:30\u001b[0m \u001b[1;30mINFO:\u001b[0m Deleted Train/Basketball_155 (180).jpg\n",
            "\u001b[32m15:45:30\u001b[0m \u001b[1;30mINFO:\u001b[0m Deleted Train/Basketball_155 (213).jpg\n",
            "\u001b[32m15:45:30\u001b[0m \u001b[1;30mINFO:\u001b[0m Deleted Train/Basketball_155 (181).jpg\n",
            "\u001b[32m15:45:30\u001b[0m \u001b[1;30mINFO:\u001b[0m Deleted Train/Basketball_155 (182).jpg\n",
            "\u001b[32m15:45:30\u001b[0m \u001b[1;30mINFO:\u001b[0m Deleted Train/Basketball_155 (183).jpg\n",
            "\u001b[32m15:45:30\u001b[0m \u001b[1;30mINFO:\u001b[0m Deleted Train/Basketball_155 (184).jpg\n",
            "\u001b[32m15:45:30\u001b[0m \u001b[1;30mINFO:\u001b[0m Deleted Train/Basketball_155 (185).jpg\n",
            "\u001b[32m15:45:30\u001b[0m \u001b[1;30mINFO:\u001b[0m Deleted Train/Basketball_155 (187).jpg\n",
            "\u001b[32m15:45:30\u001b[0m \u001b[1;30mINFO:\u001b[0m Deleted Train/Basketball_155 (188).jpg\n",
            "\u001b[32m15:45:30\u001b[0m \u001b[1;30mINFO:\u001b[0m Deleted Train/Basketball_155 (189).jpg\n",
            "\u001b[32m15:45:30\u001b[0m \u001b[1;30mINFO:\u001b[0m Deleted Train/Basketball_155 (191).jpg\n",
            "\u001b[32m15:45:30\u001b[0m \u001b[1;30mINFO:\u001b[0m Deleted Train/Basketball_155 (192).jpg\n",
            "\u001b[32m15:45:30\u001b[0m \u001b[1;30mINFO:\u001b[0m Deleted Train/Basketball_155 (193).jpg\n",
            "\u001b[32m15:45:30\u001b[0m \u001b[1;30mINFO:\u001b[0m Deleted Train/Basketball_155 (194).jpg\n",
            "\u001b[32m15:45:30\u001b[0m \u001b[1;30mINFO:\u001b[0m Deleted Train/Basketball_155 (195).jpg\n",
            "\u001b[32m15:45:30\u001b[0m \u001b[1;30mINFO:\u001b[0m Deleted Train/Basketball_155 (196).jpg\n",
            "\u001b[32m15:45:30\u001b[0m \u001b[1;30mINFO:\u001b[0m Deleted Train/Basketball_155 (198).jpg\n",
            "\u001b[32m15:45:30\u001b[0m \u001b[1;30mINFO:\u001b[0m Deleted Train/Basketball_155 (199).jpg\n",
            "\u001b[32m15:45:30\u001b[0m \u001b[1;30mINFO:\u001b[0m Deleted Train/Basketball_155 (200).jpg\n",
            "\u001b[32m15:45:30\u001b[0m \u001b[1;30mINFO:\u001b[0m Deleted Train/Basketball_155 (202).jpg\n",
            "\u001b[32m15:45:30\u001b[0m \u001b[1;30mINFO:\u001b[0m Deleted Train/Basketball_155 (203).jpg\n",
            "\u001b[32m15:45:30\u001b[0m \u001b[1;30mINFO:\u001b[0m Deleted Train/Basketball_155 (204).jpg\n",
            "\u001b[32m15:45:30\u001b[0m \u001b[1;30mINFO:\u001b[0m Deleted Train/Basketball_155 (207).jpg\n",
            "\u001b[32m15:45:30\u001b[0m \u001b[1;30mINFO:\u001b[0m Deleted Train/Basketball_155 (214).jpg\n",
            "\u001b[32m15:45:30\u001b[0m \u001b[1;30mINFO:\u001b[0m Deleted Train/Basketball_155 (217).jpg\n",
            "\u001b[32m15:45:30\u001b[0m \u001b[1;30mINFO:\u001b[0m Deleted Train/Basketball_155 (218).jpg\n",
            "\u001b[32m15:45:30\u001b[0m \u001b[1;30mINFO:\u001b[0m Deleted Train/Basketball_155 (219).jpg\n",
            "\u001b[32m15:45:30\u001b[0m \u001b[1;30mINFO:\u001b[0m Deleted Train/Basketball_155 (220).jpg\n",
            "\u001b[32m15:45:30\u001b[0m \u001b[1;30mINFO:\u001b[0m Deleted Train/Basketball_155 (221).jpg\n",
            "\u001b[32m15:45:30\u001b[0m \u001b[1;30mINFO:\u001b[0m Deleted Train/Basketball_155 (222).jpg\n",
            "\u001b[32m15:45:30\u001b[0m \u001b[1;30mINFO:\u001b[0m Deleted Train/Basketball_155 (223).jpg\n",
            "\u001b[32m15:45:30\u001b[0m \u001b[1;30mINFO:\u001b[0m Deleted Train/Basketball_155 (224).jpg\n",
            "\u001b[32m15:45:30\u001b[0m \u001b[1;30mINFO:\u001b[0m Deleted Train/Basketball_155 (228).jpg\n",
            "\u001b[32m15:45:30\u001b[0m \u001b[1;30mINFO:\u001b[0m Deleted Train/Basketball_155 (229).jpg\n",
            "\u001b[32m15:45:30\u001b[0m \u001b[1;30mINFO:\u001b[0m Deleted Train/Basketball_155 (230).jpg\n",
            "\u001b[32m15:45:30\u001b[0m \u001b[1;30mINFO:\u001b[0m Deleted Train/Basketball_155 (231).jpg\n",
            "\u001b[32m15:45:30\u001b[0m \u001b[1;30mINFO:\u001b[0m Deleted Train/Basketball_155 (232).jpg\n",
            "\u001b[32m15:45:30\u001b[0m \u001b[1;30mINFO:\u001b[0m Deleted Train/Basketball_155 (233).jpg\n",
            "\u001b[32m15:45:30\u001b[0m \u001b[1;30mINFO:\u001b[0m Deleted Train/Basketball_155 (234).jpg\n",
            "\u001b[32m15:45:30\u001b[0m \u001b[1;30mINFO:\u001b[0m Deleted Train/Basketball_155 (235).jpg\n",
            "\u001b[32m15:45:30\u001b[0m \u001b[1;30mINFO:\u001b[0m Deleted Train/Basketball_155 (236).jpg\n",
            "\u001b[32m15:45:30\u001b[0m \u001b[1;30mINFO:\u001b[0m Deleted Train/Basketball_155 (237).jpg\n",
            "\u001b[32m15:45:30\u001b[0m \u001b[1;30mINFO:\u001b[0m Deleted Train/Basketball_155 (238).jpg\n",
            "\u001b[32m15:45:30\u001b[0m \u001b[1;30mINFO:\u001b[0m Deleted Train/Basketball_155 (239).jpg\n",
            "\u001b[32m15:45:30\u001b[0m \u001b[1;30mINFO:\u001b[0m Deleted Train/Basketball_155 (240).jpg\n",
            "\u001b[32m15:45:30\u001b[0m \u001b[1;30mINFO:\u001b[0m Deleted Train/Basketball_155 (241).jpg\n",
            "\u001b[32m15:45:30\u001b[0m \u001b[1;30mINFO:\u001b[0m Deleted Train/Basketball_155 (242).jpg\n",
            "\u001b[32m15:45:30\u001b[0m \u001b[1;30mINFO:\u001b[0m Deleted Train/Basketball_155 (243).jpg\n",
            "\u001b[32m15:45:30\u001b[0m \u001b[1;30mINFO:\u001b[0m Deleted Train/Basketball_155 (244).jpg\n",
            "\u001b[32m15:45:30\u001b[0m \u001b[1;30mINFO:\u001b[0m Deleted Train/Basketball_155 (245).jpg\n",
            "\u001b[32m15:45:30\u001b[0m \u001b[1;30mINFO:\u001b[0m Deleted Train/Basketball_155 (246).jpg\n",
            "\u001b[32m15:45:30\u001b[0m \u001b[1;30mINFO:\u001b[0m Deleted Train/Basketball_155 (247).jpg\n",
            "\u001b[32m15:45:30\u001b[0m \u001b[1;30mINFO:\u001b[0m Deleted Train/Basketball_155 (248).jpg\n",
            "\u001b[32m15:45:30\u001b[0m \u001b[1;30mINFO:\u001b[0m Deleted Train/Basketball_155 (249).jpg\n",
            "\u001b[32m15:45:30\u001b[0m \u001b[1;30mINFO:\u001b[0m Deleted Train/Basketball_155 (250).jpg\n",
            "\u001b[32m15:45:30\u001b[0m \u001b[1;30mINFO:\u001b[0m Deleted Train/Basketball_155 (251).jpg\n",
            "\u001b[32m15:45:30\u001b[0m \u001b[1;30mINFO:\u001b[0m Deleted Train/Basketball_155 (252).jpg\n",
            "\u001b[32m15:45:30\u001b[0m \u001b[1;30mINFO:\u001b[0m Deleted Train/Basketball_155 (253).jpg\n",
            "\u001b[32m15:45:30\u001b[0m \u001b[1;30mINFO:\u001b[0m Deleted Train/Basketball_155 (254).jpg\n",
            "\u001b[32m15:45:30\u001b[0m \u001b[1;30mINFO:\u001b[0m Deleted Train/Basketball_155 (255).jpg\n",
            "\u001b[32m15:45:30\u001b[0m \u001b[1;30mINFO:\u001b[0m Deleted Train/Basketball_155 (256).jpg\n",
            "\u001b[32m15:45:30\u001b[0m \u001b[1;30mINFO:\u001b[0m Deleted Train/Basketball_155 (257).jpg\n",
            "\u001b[32m15:45:30\u001b[0m \u001b[1;30mINFO:\u001b[0m Deleted Train/Basketball_155 (258).jpg\n",
            "\u001b[32m15:45:30\u001b[0m \u001b[1;30mINFO:\u001b[0m Deleted Train/Basketball_155 (259).jpg\n",
            "\u001b[32m15:45:30\u001b[0m \u001b[1;30mINFO:\u001b[0m Deleted Train/Basketball_155 (260).jpg\n",
            "\u001b[32m15:45:30\u001b[0m \u001b[1;30mINFO:\u001b[0m Deleted Train/Basketball_155 (261).jpg\n",
            "\u001b[32m15:45:30\u001b[0m \u001b[1;30mINFO:\u001b[0m Deleted Train/Basketball_155 (262).jpg\n",
            "\u001b[32m15:45:30\u001b[0m \u001b[1;30mINFO:\u001b[0m Deleted Train/Basketball_155 (263).jpg\n",
            "\u001b[32m15:45:30\u001b[0m \u001b[1;30mINFO:\u001b[0m Deleted Train/Basketball_155 (264).jpg\n",
            "\u001b[32m15:45:30\u001b[0m \u001b[1;30mINFO:\u001b[0m Deleted Train/Basketball_155 (265).jpg\n",
            "\u001b[32m15:45:30\u001b[0m \u001b[1;30mINFO:\u001b[0m Deleted Train/Basketball_155 (266).jpg\n",
            "\u001b[32m15:45:30\u001b[0m \u001b[1;30mINFO:\u001b[0m Deleted Train/Basketball_155 (267).jpg\n",
            "\u001b[32m15:45:30\u001b[0m \u001b[1;30mINFO:\u001b[0m Deleted Train/Basketball_155 (268).jpg\n",
            "\u001b[32m15:45:30\u001b[0m \u001b[1;30mINFO:\u001b[0m Deleted Train/Basketball_155 (269).jpg\n",
            "\u001b[32m15:45:30\u001b[0m \u001b[1;30mINFO:\u001b[0m Deleted Train/Basketball_155 (270).jpg\n",
            "\u001b[32m15:45:30\u001b[0m \u001b[1;30mINFO:\u001b[0m Deleted Train/Basketball_155 (271).jpg\n",
            "\u001b[32m15:45:30\u001b[0m \u001b[1;30mINFO:\u001b[0m Deleted Train/Basketball_155 (272).jpg\n",
            "\u001b[32m15:45:30\u001b[0m \u001b[1;30mINFO:\u001b[0m Deleted Train/Basketball_155 (273).jpg\n",
            "\u001b[32m15:45:30\u001b[0m \u001b[1;30mINFO:\u001b[0m Deleted Train/Basketball_155 (274).jpg\n",
            "\u001b[32m15:45:30\u001b[0m \u001b[1;30mINFO:\u001b[0m Deleted Train/Basketball_155 (275).jpg\n",
            "\u001b[32m15:45:30\u001b[0m \u001b[1;30mINFO:\u001b[0m Deleted Train/Basketball_155 (276).jpg\n",
            "\u001b[32m15:45:30\u001b[0m \u001b[1;30mINFO:\u001b[0m Deleted Train/Basketball_155 (277).jpg\n",
            "\u001b[32m15:45:30\u001b[0m \u001b[1;30mINFO:\u001b[0m Deleted Train/Basketball_155 (278).jpg\n",
            "\u001b[32m15:45:30\u001b[0m \u001b[1;30mINFO:\u001b[0m Deleted Train/Basketball_155 (280).jpg\n",
            "\u001b[32m15:45:30\u001b[0m \u001b[1;30mINFO:\u001b[0m Deleted Train/Basketball_155 (281).jpg\n",
            "\u001b[32m15:45:30\u001b[0m \u001b[1;30mINFO:\u001b[0m Deleted Train/Basketball_155 (282).jpg\n",
            "\u001b[32m15:45:30\u001b[0m \u001b[1;30mINFO:\u001b[0m Deleted Train/Basketball_155 (283).jpg\n",
            "\u001b[32m15:45:30\u001b[0m \u001b[1;30mINFO:\u001b[0m Deleted Train/Basketball_155 (284).jpg\n",
            "\u001b[32m15:45:30\u001b[0m \u001b[1;30mINFO:\u001b[0m Deleted Train/Basketball_155 (286).jpg\n",
            "\u001b[32m15:45:30\u001b[0m \u001b[1;30mINFO:\u001b[0m Deleted Train/Basketball_155 (287).jpg\n",
            "\u001b[32m15:45:30\u001b[0m \u001b[1;30mINFO:\u001b[0m Deleted Train/Basketball_155 (288).jpg\n",
            "\u001b[32m15:45:30\u001b[0m \u001b[1;30mINFO:\u001b[0m Deleted Train/Basketball_86.jpg\n",
            "\u001b[32m15:45:30\u001b[0m \u001b[1;30mINFO:\u001b[0m Deleted Train/Basketball_155 (290).jpg\n",
            "\u001b[32m15:45:30\u001b[0m \u001b[1;30mINFO:\u001b[0m Deleted Train/Basketball_155 (291).jpg\n",
            "\u001b[32m15:45:30\u001b[0m \u001b[1;30mINFO:\u001b[0m Deleted Train/Basketball_155 (292).jpg\n",
            "\u001b[32m15:45:30\u001b[0m \u001b[1;30mINFO:\u001b[0m Deleted Train/Basketball_155 (293).jpg\n",
            "\u001b[32m15:45:30\u001b[0m \u001b[1;30mINFO:\u001b[0m Deleted Train/Basketball_155 (294).jpg\n",
            "\u001b[32m15:45:30\u001b[0m \u001b[1;30mINFO:\u001b[0m Deleted Train/Basketball_155 (295).jpg\n",
            "\u001b[32m15:45:30\u001b[0m \u001b[1;30mINFO:\u001b[0m Deleted Train/Basketball_155 (296).jpg\n",
            "\u001b[32m15:45:30\u001b[0m \u001b[1;30mINFO:\u001b[0m Deleted Train/Basketball_155 (297).jpg\n",
            "\u001b[32m15:45:30\u001b[0m \u001b[1;30mINFO:\u001b[0m Deleted Train/Basketball_155 (298).jpg\n",
            "\u001b[32m15:45:30\u001b[0m \u001b[1;30mINFO:\u001b[0m Deleted Train/Basketball_155 (299).jpg\n",
            "\u001b[32m15:45:30\u001b[0m \u001b[1;30mINFO:\u001b[0m Deleted Train/Basketball_155 (300).jpg\n",
            "\u001b[32m15:45:30\u001b[0m \u001b[1;30mINFO:\u001b[0m Deleted Train/Basketball_155 (301).jpg\n"
          ]
        }
      ]
    },
    {
      "cell_type": "markdown",
      "source": [
        "**After removing duplicates, We make sure that there's no duplicates again, Produces (0 matches)**"
      ],
      "metadata": {
        "id": "Z0yEotNQHDO-"
      }
    },
    {
      "cell_type": "code",
      "source": [
        "!find-dups '/content/drive/MyDrive/NN Dataset.zip (Unzipped Files)/Train/'"
      ],
      "metadata": {
        "colab": {
          "base_uri": "https://localhost:8080/"
        },
        "id": "kC0ceAChEoKw",
        "outputId": "6d62dc3e-8777-4fb6-af51-77f8bed0b24c"
      },
      "execution_count": 7,
      "outputs": [
        {
          "output_type": "stream",
          "name": "stdout",
          "text": [
            "\u001b[32m23:40:10\u001b[0m \u001b[1;30mINFO:\u001b[0m Scanning Train/\n",
            "\u001b[32m23:41:03\u001b[0m \u001b[1;30mINFO:\u001b[0m 2121 total files\n",
            "\u001b[32m23:41:03\u001b[0m \u001b[1;30mINFO:\u001b[0m Computing image hashes\n",
            "\u001b[32m23:41:03\u001b[0m \u001b[1;30mINFO:\u001b[0m No persistent storage for calculated image hashes set up\n",
            "\u001b[32m23:41:20\u001b[0m \u001b[1;30mINFO:\u001b[0m 2121 hashes calculated\n",
            "\u001b[32m23:41:20\u001b[0m \u001b[1;30mINFO:\u001b[0m Filtering duplicates\n",
            "\u001b[32m23:41:38\u001b[0m \u001b[1;30mINFO:\u001b[0m 0 matches\n"
          ]
        }
      ]
    },
    {
      "cell_type": "markdown",
      "source": [
        "Since we still have class imbalance we would increase our dataset by **Data Augmentation**"
      ],
      "metadata": {
        "id": "lDjUJv1veZOb"
      }
    },
    {
      "cell_type": "code",
      "source": [
        "sw= df[df['Class']==\"Swimming\"].head(150).reset_index(drop=True)\n",
        "num=181\n",
        "i=180\n",
        "while(i<200):\n",
        "  loaded_img = cv2.imread(sw.iloc[i]['Path'])\n",
        "  loaded_img = cv2.cvtColor(loaded_img,cv2.COLOR_BGR2RGB)\n",
        " \n",
        "  # Apply sharpenning kernel and flipping then save image\n",
        "  # Sharpen_Kernel = np.array([[-1, -1, -1], [-1, 9, -1], [-1, -1, -1]])\n",
        "  # Sharpen_Effect_Img = cv2.filter2D(src=loaded_img, kernel=Sharpen_Kernel, ddepth=-1)\n",
        "  Blur_Effect_Img = cv2.GaussianBlur(loaded_img, (35, 35), 0)\n",
        "  Blur_Effect_Img = cv2.flip(Blur_Effect_Img, 0)\n",
        "  Blur_Effect_Img=  cv2.cvtColor(Blur_Effect_Img,cv2.COLOR_BGR2RGB)\n",
        "\n",
        "  # =========================================================\n",
        "  fname= f'Swimming_{num}_uniqe'+'.jpg'\n",
        "  cv2.imwrite(fname,Blur_Effect_Img)\n",
        "  # download\n",
        "  FILE.download(fname)\n",
        "  num+=1\n",
        "  i+=1"
      ],
      "metadata": {
        "id": "SI9DlhBqIeH5"
      },
      "execution_count": null,
      "outputs": []
    },
    {
      "cell_type": "code",
      "source": [
        "df"
      ],
      "metadata": {
        "colab": {
          "base_uri": "https://localhost:8080/",
          "height": 424
        },
        "id": "iOuQep_Pnvgs",
        "outputId": "119b7bcb-497e-4fa6-840e-e11e1fc56f59"
      },
      "execution_count": 10,
      "outputs": [
        {
          "output_type": "execute_result",
          "data": {
            "text/plain": [
              "                                                   Path       Class  Label\n",
              "0     /content/drive/MyDrive/NN Dataset.zip (Unzippe...        Yoga      5\n",
              "1     /content/drive/MyDrive/NN Dataset.zip (Unzippe...        Yoga      5\n",
              "2     /content/drive/MyDrive/NN Dataset.zip (Unzippe...        Yoga      5\n",
              "3     /content/drive/MyDrive/NN Dataset.zip (Unzippe...        Yoga      5\n",
              "4     /content/drive/MyDrive/NN Dataset.zip (Unzippe...        Yoga      5\n",
              "...                                                 ...         ...    ...\n",
              "2116  /content/drive/MyDrive/NN Dataset.zip (Unzippe...  Basketball      0\n",
              "2117  /content/drive/MyDrive/NN Dataset.zip (Unzippe...  Basketball      0\n",
              "2118  /content/drive/MyDrive/NN Dataset.zip (Unzippe...  Basketball      0\n",
              "2119  /content/drive/MyDrive/NN Dataset.zip (Unzippe...  Basketball      0\n",
              "2120  /content/drive/MyDrive/NN Dataset.zip (Unzippe...  Basketball      0\n",
              "\n",
              "[2121 rows x 3 columns]"
            ],
            "text/html": [
              "\n",
              "  <div id=\"df-b32112f8-30ce-4cd5-9570-6fead77d8561\">\n",
              "    <div class=\"colab-df-container\">\n",
              "      <div>\n",
              "<style scoped>\n",
              "    .dataframe tbody tr th:only-of-type {\n",
              "        vertical-align: middle;\n",
              "    }\n",
              "\n",
              "    .dataframe tbody tr th {\n",
              "        vertical-align: top;\n",
              "    }\n",
              "\n",
              "    .dataframe thead th {\n",
              "        text-align: right;\n",
              "    }\n",
              "</style>\n",
              "<table border=\"1\" class=\"dataframe\">\n",
              "  <thead>\n",
              "    <tr style=\"text-align: right;\">\n",
              "      <th></th>\n",
              "      <th>Path</th>\n",
              "      <th>Class</th>\n",
              "      <th>Label</th>\n",
              "    </tr>\n",
              "  </thead>\n",
              "  <tbody>\n",
              "    <tr>\n",
              "      <th>0</th>\n",
              "      <td>/content/drive/MyDrive/NN Dataset.zip (Unzippe...</td>\n",
              "      <td>Yoga</td>\n",
              "      <td>5</td>\n",
              "    </tr>\n",
              "    <tr>\n",
              "      <th>1</th>\n",
              "      <td>/content/drive/MyDrive/NN Dataset.zip (Unzippe...</td>\n",
              "      <td>Yoga</td>\n",
              "      <td>5</td>\n",
              "    </tr>\n",
              "    <tr>\n",
              "      <th>2</th>\n",
              "      <td>/content/drive/MyDrive/NN Dataset.zip (Unzippe...</td>\n",
              "      <td>Yoga</td>\n",
              "      <td>5</td>\n",
              "    </tr>\n",
              "    <tr>\n",
              "      <th>3</th>\n",
              "      <td>/content/drive/MyDrive/NN Dataset.zip (Unzippe...</td>\n",
              "      <td>Yoga</td>\n",
              "      <td>5</td>\n",
              "    </tr>\n",
              "    <tr>\n",
              "      <th>4</th>\n",
              "      <td>/content/drive/MyDrive/NN Dataset.zip (Unzippe...</td>\n",
              "      <td>Yoga</td>\n",
              "      <td>5</td>\n",
              "    </tr>\n",
              "    <tr>\n",
              "      <th>...</th>\n",
              "      <td>...</td>\n",
              "      <td>...</td>\n",
              "      <td>...</td>\n",
              "    </tr>\n",
              "    <tr>\n",
              "      <th>2116</th>\n",
              "      <td>/content/drive/MyDrive/NN Dataset.zip (Unzippe...</td>\n",
              "      <td>Basketball</td>\n",
              "      <td>0</td>\n",
              "    </tr>\n",
              "    <tr>\n",
              "      <th>2117</th>\n",
              "      <td>/content/drive/MyDrive/NN Dataset.zip (Unzippe...</td>\n",
              "      <td>Basketball</td>\n",
              "      <td>0</td>\n",
              "    </tr>\n",
              "    <tr>\n",
              "      <th>2118</th>\n",
              "      <td>/content/drive/MyDrive/NN Dataset.zip (Unzippe...</td>\n",
              "      <td>Basketball</td>\n",
              "      <td>0</td>\n",
              "    </tr>\n",
              "    <tr>\n",
              "      <th>2119</th>\n",
              "      <td>/content/drive/MyDrive/NN Dataset.zip (Unzippe...</td>\n",
              "      <td>Basketball</td>\n",
              "      <td>0</td>\n",
              "    </tr>\n",
              "    <tr>\n",
              "      <th>2120</th>\n",
              "      <td>/content/drive/MyDrive/NN Dataset.zip (Unzippe...</td>\n",
              "      <td>Basketball</td>\n",
              "      <td>0</td>\n",
              "    </tr>\n",
              "  </tbody>\n",
              "</table>\n",
              "<p>2121 rows × 3 columns</p>\n",
              "</div>\n",
              "      <button class=\"colab-df-convert\" onclick=\"convertToInteractive('df-b32112f8-30ce-4cd5-9570-6fead77d8561')\"\n",
              "              title=\"Convert this dataframe to an interactive table.\"\n",
              "              style=\"display:none;\">\n",
              "        \n",
              "  <svg xmlns=\"http://www.w3.org/2000/svg\" height=\"24px\"viewBox=\"0 0 24 24\"\n",
              "       width=\"24px\">\n",
              "    <path d=\"M0 0h24v24H0V0z\" fill=\"none\"/>\n",
              "    <path d=\"M18.56 5.44l.94 2.06.94-2.06 2.06-.94-2.06-.94-.94-2.06-.94 2.06-2.06.94zm-11 1L8.5 8.5l.94-2.06 2.06-.94-2.06-.94L8.5 2.5l-.94 2.06-2.06.94zm10 10l.94 2.06.94-2.06 2.06-.94-2.06-.94-.94-2.06-.94 2.06-2.06.94z\"/><path d=\"M17.41 7.96l-1.37-1.37c-.4-.4-.92-.59-1.43-.59-.52 0-1.04.2-1.43.59L10.3 9.45l-7.72 7.72c-.78.78-.78 2.05 0 2.83L4 21.41c.39.39.9.59 1.41.59.51 0 1.02-.2 1.41-.59l7.78-7.78 2.81-2.81c.8-.78.8-2.07 0-2.86zM5.41 20L4 18.59l7.72-7.72 1.47 1.35L5.41 20z\"/>\n",
              "  </svg>\n",
              "      </button>\n",
              "      \n",
              "  <style>\n",
              "    .colab-df-container {\n",
              "      display:flex;\n",
              "      flex-wrap:wrap;\n",
              "      gap: 12px;\n",
              "    }\n",
              "\n",
              "    .colab-df-convert {\n",
              "      background-color: #E8F0FE;\n",
              "      border: none;\n",
              "      border-radius: 50%;\n",
              "      cursor: pointer;\n",
              "      display: none;\n",
              "      fill: #1967D2;\n",
              "      height: 32px;\n",
              "      padding: 0 0 0 0;\n",
              "      width: 32px;\n",
              "    }\n",
              "\n",
              "    .colab-df-convert:hover {\n",
              "      background-color: #E2EBFA;\n",
              "      box-shadow: 0px 1px 2px rgba(60, 64, 67, 0.3), 0px 1px 3px 1px rgba(60, 64, 67, 0.15);\n",
              "      fill: #174EA6;\n",
              "    }\n",
              "\n",
              "    [theme=dark] .colab-df-convert {\n",
              "      background-color: #3B4455;\n",
              "      fill: #D2E3FC;\n",
              "    }\n",
              "\n",
              "    [theme=dark] .colab-df-convert:hover {\n",
              "      background-color: #434B5C;\n",
              "      box-shadow: 0px 1px 3px 1px rgba(0, 0, 0, 0.15);\n",
              "      filter: drop-shadow(0px 1px 2px rgba(0, 0, 0, 0.3));\n",
              "      fill: #FFFFFF;\n",
              "    }\n",
              "  </style>\n",
              "\n",
              "      <script>\n",
              "        const buttonEl =\n",
              "          document.querySelector('#df-b32112f8-30ce-4cd5-9570-6fead77d8561 button.colab-df-convert');\n",
              "        buttonEl.style.display =\n",
              "          google.colab.kernel.accessAllowed ? 'block' : 'none';\n",
              "\n",
              "        async function convertToInteractive(key) {\n",
              "          const element = document.querySelector('#df-b32112f8-30ce-4cd5-9570-6fead77d8561');\n",
              "          const dataTable =\n",
              "            await google.colab.kernel.invokeFunction('convertToInteractive',\n",
              "                                                     [key], {});\n",
              "          if (!dataTable) return;\n",
              "\n",
              "          const docLinkHtml = 'Like what you see? Visit the ' +\n",
              "            '<a target=\"_blank\" href=https://colab.research.google.com/notebooks/data_table.ipynb>data table notebook</a>'\n",
              "            + ' to learn more about interactive tables.';\n",
              "          element.innerHTML = '';\n",
              "          dataTable['output_type'] = 'display_data';\n",
              "          await google.colab.output.renderOutput(dataTable, element);\n",
              "          const docLink = document.createElement('div');\n",
              "          docLink.innerHTML = docLinkHtml;\n",
              "          element.appendChild(docLink);\n",
              "        }\n",
              "      </script>\n",
              "    </div>\n",
              "  </div>\n",
              "  "
            ]
          },
          "metadata": {},
          "execution_count": 10
        }
      ]
    },
    {
      "cell_type": "markdown",
      "source": [
        "**Printing Histogram again**"
      ],
      "metadata": {
        "id": "cOtBLW6EJxTd"
      }
    },
    {
      "cell_type": "code",
      "source": [
        "printHistogram()"
      ],
      "metadata": {
        "colab": {
          "base_uri": "https://localhost:8080/",
          "height": 376
        },
        "id": "GfQOxfZWnSB0",
        "outputId": "a9f31e9e-0140-4b22-b357-e0e565c579b4"
      },
      "execution_count": 8,
      "outputs": [
        {
          "output_type": "display_data",
          "data": {
            "text/plain": [
              "<Figure size 576x396 with 1 Axes>"
            ],
            "image/png": "[encoded data removed]"
          },
          "metadata": {}
        }
      ]
    },
    {
      "cell_type": "code",
      "source": [
        "# def PreprocessImage(imagePath):\n",
        "\n"
      ],
      "metadata": {
        "id": "mlu9fjVHLn2n"
      },
      "execution_count": null,
      "outputs": []
    },
    {
      "cell_type": "code",
      "source": [
        "# im = Image.open(r'/content/drive/MyDrive/NN Dataset.zip (Unzipped Files)/Train/Swimming_159.png')\n",
        "# rgb_im = im.convert('RGB')\n",
        "# # rgb_im.save('colors.jpg')\n",
        "# plt.imshow(im)"
      ],
      "metadata": {
        "id": "qFYyfmoQNnHI"
      },
      "execution_count": null,
      "outputs": []
    }
  ]
}