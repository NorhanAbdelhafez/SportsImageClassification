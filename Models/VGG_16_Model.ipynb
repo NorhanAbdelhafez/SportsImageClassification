{
  "nbformat": 4,
  "nbformat_minor": 0,
  "metadata": {
    "colab": {
      "provenance": []
    },
    "kernelspec": {
      "name": "python3",
      "display_name": "Python 3"
    },
    "language_info": {
      "name": "python"
    }
  },
  "cells": [
    {
      "cell_type": "code",
      "execution_count": null,
      "metadata": {
        "id": "YbQr6nqlQl1f"
      },
      "outputs": [],
      "source": [
        "import keras, os\n",
        "import tensorflow as tf\n",
        "from keras.models import Model\n",
        "import matplotlib.pyplot as plt\n",
        "from keras.models import Sequential\n",
        "from tensorflow.keras.layers import concatenate\n",
        "from keras.preprocessing.image import ImageDataGenerator\n",
        "from tensorflow.keras import datasets, layers, models, losses\n",
        "from keras.layers import Input, Dense, Conv2D, MaxPool2D , Flatten, MaxPooling2D, GlobalAveragePooling2D ,AveragePooling2D, Dropout, Activation, BatchNormalization"
      ]
    },
    {
      "cell_type": "code",
      "source": [
        "from google.colab import drive\n",
        "drive.mount('/content/drive')"
      ],
      "metadata": {
        "id": "PeVZ-vYmZsyR"
      },
      "execution_count": null,
      "outputs": []
    },
    {
      "cell_type": "markdown",
      "source": [
        "# **Read Dataset**"
      ],
      "metadata": {
        "id": "zy74_4IYbUZx"
      }
    },
    {
      "cell_type": "code",
      "source": [
        "TRAIN_AUG_DIR = r\"/content/drive/MyDrive/Train\"\n",
        "VALIDATION_AUG_DIR = r\"/content/drive/MyDrive/Validation\"\n",
        "\n",
        "image_size=(224,224)\n",
        "train_d = tf.keras.preprocessing.image_dataset_from_directory(\n",
        "     TRAIN_AUG_DIR,\n",
        "     labels=\"inferred\",\n",
        "     label_mode=\"categorical\",\n",
        "     color_mode=\"rgb\",\n",
        "     batch_size=64,\n",
        "     image_size=image_size,\n",
        "     seed=111,\n",
        "     shuffle=True\n",
        "    )\n",
        "\n",
        "valid_d =tf.keras.preprocessing.image_dataset_from_directory(\n",
        "    VALIDATION_AUG_DIR,\n",
        "    labels=\"inferred\",\n",
        "    label_mode=\"categorical\",\n",
        "    color_mode=\"rgb\",\n",
        "    batch_size=64,\n",
        "    image_size=image_size,\n",
        "    seed=111,\n",
        "    shuffle=True\n",
        "    )"
      ],
      "metadata": {
        "id": "RPXsBtpJZs02"
      },
      "execution_count": null,
      "outputs": []
    },
    {
      "cell_type": "markdown",
      "source": [
        "# **History Plot**"
      ],
      "metadata": {
        "id": "kcXM8fwmbYGF"
      }
    },
    {
      "cell_type": "code",
      "source": [
        "def history_plot(history):\n",
        "  fig, axs = plt.subplots(2, 1, figsize=(15,15))\n",
        "  axs[0].plot(history.history['loss'])\n",
        "  axs[0].plot(history.history['val_loss'])\n",
        "  axs[0].title.set_text('Training Loss vs Validation Loss')\n",
        "  axs[0].set_xlabel('Epochs')\n",
        "  axs[0].set_ylabel('Loss')\n",
        "  axs[0].legend(['Train', 'Val'])\n",
        "\n",
        "  axs[1].plot(history.history['accuracy'])\n",
        "  axs[1].plot(history.history['val_accuracy'])\n",
        "  axs[1].title.set_text('Training Accuracy vs Validation Accuracy')\n",
        "  axs[1].set_xlabel('Epochs')\n",
        "  axs[1].set_ylabel('Accuracy')\n",
        "  axs[1].legend(['Train', 'Val'])"
      ],
      "metadata": {
        "id": "-VqiEfQyZs3d"
      },
      "execution_count": null,
      "outputs": []
    },
    {
      "cell_type": "markdown",
      "source": [
        "# **VGG-16 Model**"
      ],
      "metadata": {
        "id": "35bS_EZNbhl2"
      }
    },
    {
      "cell_type": "code",
      "source": [
        "VGG = models.Sequential()\n",
        "\n",
        "VGG.add(Conv2D(input_shape=(224,224,3),filters=64,kernel_size=(3,3),padding=\"same\", activation=\"relu\"))\n",
        "VGG.add(Conv2D(filters=64,kernel_size=(3,3),padding=\"same\", activation=\"relu\"))\n",
        "VGG.add(MaxPool2D(pool_size=(2,2),strides=(2,2)))\n",
        "\n",
        "VGG.add(Conv2D(filters=128, kernel_size=(3,3), padding=\"same\", activation=\"relu\"))\n",
        "VGG.add(Conv2D(filters=128, kernel_size=(3,3), padding=\"same\", activation=\"relu\"))\n",
        "VGG.add(MaxPool2D(pool_size=(2,2),strides=(2,2)))\n",
        "\n",
        "VGG.add(Conv2D(filters=256, kernel_size=(3,3), padding=\"same\", activation=\"relu\"))\n",
        "VGG.add(Conv2D(filters=256, kernel_size=(3,3), padding=\"same\", activation=\"relu\"))\n",
        "VGG.add(Conv2D(filters=256, kernel_size=(3,3), padding=\"same\", activation=\"relu\"))\n",
        "VGG.add(MaxPool2D(pool_size=(2,2),strides=(2,2)))\n",
        "\n",
        "VGG.add(Conv2D(filters=512, kernel_size=(3,3), padding=\"same\", activation=\"relu\"))\n",
        "VGG.add(Conv2D(filters=512, kernel_size=(3,3), padding=\"same\", activation=\"relu\"))\n",
        "VGG.add(Conv2D(filters=512, kernel_size=(3,3), padding=\"same\", activation=\"relu\"))\n",
        "VGG.add(MaxPool2D(pool_size=(2,2),strides=(2,2)))\n",
        "\n",
        "VGG.add(Conv2D(filters=512, kernel_size=(3,3), padding=\"same\", activation=\"relu\"))\n",
        "VGG.add(Conv2D(filters=512, kernel_size=(3,3), padding=\"same\", activation=\"relu\"))\n",
        "VGG.add(Conv2D(filters=512, kernel_size=(3,3), padding=\"same\", activation=\"relu\"))\n",
        "VGG.add(MaxPool2D(pool_size=(2,2),strides=(2,2)))\n",
        "\n",
        "VGG.add(Flatten())\n",
        "VGG.add(Dense(4096,activation=\"relu\"))\n",
        "VGG.add(Dense(4096,activation=\"relu\"))\n",
        "VGG.add(Dense(6, activation='softmax')) "
      ],
      "metadata": {
        "id": "flhV8ew7Zs65"
      },
      "execution_count": null,
      "outputs": []
    },
    {
      "cell_type": "code",
      "source": [
        "VGG.compile(optimizer='adam', loss=\"categorical_crossentropy\", metrics=['accuracy'])"
      ],
      "metadata": {
        "id": "XDJxmUlqbyCf"
      },
      "execution_count": null,
      "outputs": []
    },
    {
      "cell_type": "code",
      "source": [
        "history = cnn3.fit(train_generator, epochs=20, validation_data=validation_generator)"
      ],
      "metadata": {
        "id": "eYav2xLFdjXM"
      },
      "execution_count": null,
      "outputs": []
    },
    {
      "cell_type": "code",
      "source": [
        "history_plot(history)"
      ],
      "metadata": {
        "id": "ECNp4jdYdjdc"
      },
      "execution_count": null,
      "outputs": []
    },
    {
      "cell_type": "markdown",
      "source": [
        "# **Save Model**"
      ],
      "metadata": {
        "id": "mfv6prP6udFm"
      }
    },
    {
      "cell_type": "code",
      "source": [
        "# from keras.models import model_from_json\n",
        "# import os\n",
        "\n",
        "# model_json = model.to_json()\n",
        "\n",
        "# with open(\"model.json\", \"w\") as json_file:\n",
        "#     json_file.write(model_json)\n",
        "\n",
        "# model.save_weights(os.path.join(os.getcwd(), 'model.h5'))"
      ],
      "metadata": {
        "id": "6zAuLpdkt_Xc"
      },
      "execution_count": null,
      "outputs": []
    }
  ]
}