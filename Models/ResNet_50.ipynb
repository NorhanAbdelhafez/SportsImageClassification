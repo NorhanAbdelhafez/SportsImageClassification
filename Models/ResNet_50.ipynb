{
  "nbformat": 4,
  "nbformat_minor": 0,
  "metadata": {
    "colab": {
      "provenance": []
    },
    "kernelspec": {
      "name": "python3",
      "display_name": "Python 3"
    },
    "language_info": {
      "name": "python"
    },
    "accelerator": "GPU",
    "gpuClass": "standard"
  },
  "cells": [
    {
      "cell_type": "code",
      "execution_count": 1,
      "metadata": {
        "id": "rVocaqKpQmhF"
      },
      "outputs": [],
      "source": [
        "import keras, os\n",
        "import tensorflow as tf\n",
        "from keras.models import Model\n",
        "import matplotlib.pyplot as plt\n",
        "from keras.models import Sequential\n",
        "from tensorflow.keras.layers import concatenate\n",
        "from keras.preprocessing.image import ImageDataGenerator\n",
        "from tensorflow.keras import datasets, layers, models, losses\n",
        "from keras.layers import Input, Dense, Conv2D, MaxPool2D , Flatten, MaxPooling2D, GlobalAveragePooling2D ,AveragePooling2D, Dropout, Activation, BatchNormalization,ZeroPadding2D,Add\n",
        "from keras.layers import Activation, Dense\n",
        "from tensorflow.keras import layers\n",
        "from tensorflow.keras import regularizers"
      ]
    },
    {
      "cell_type": "code",
      "source": [
        "from google.colab import drive\n",
        "drive.mount('/content/drive')"
      ],
      "metadata": {
        "id": "nMio5ebHtGiI",
        "colab": {
          "base_uri": "https://localhost:8080/"
        },
        "outputId": "0d83f68d-6c4a-43e4-84b6-6c4d8c23b2c5"
      },
      "execution_count": 2,
      "outputs": [
        {
          "output_type": "stream",
          "name": "stdout",
          "text": [
            "Mounted at /content/drive\n"
          ]
        }
      ]
    },
    {
      "cell_type": "code",
      "source": [
        "from keras_preprocessing.image import ImageDataGenerator\n",
        "\n",
        "train_DataGenerator = ImageDataGenerator(rescale=1./255, validation_split=0.2)\n",
        "\n",
        "TRAIN_AUG_DIR = r\"/content/drive/MyDrive/New_Train\"\n",
        "\n",
        "labels=['Basketball','Football','Rowing','Swimming','Tennis','Yoga']\n",
        "\n",
        "train_d = train_DataGenerator.flow_from_directory(\n",
        "      TRAIN_AUG_DIR,\n",
        "      classes=labels,\n",
        "      color_mode=\"rgb\",\n",
        "      batch_size=16,\n",
        "      target_size=(64,64),\n",
        "      class_mode=\"categorical\",\n",
        "      subset=\"training\")\n",
        "\n",
        "valid_d = train_DataGenerator.flow_from_directory(\n",
        "    TRAIN_AUG_DIR,\n",
        "    classes=labels,\n",
        "    color_mode=\"rgb\",\n",
        "    batch_size=16,\n",
        "    target_size=(64,64),\n",
        "    class_mode=\"categorical\",\n",
        "    subset=\"validation\")"
      ],
      "metadata": {
        "id": "ykZaozHWtGkz",
        "colab": {
          "base_uri": "https://localhost:8080/"
        },
        "outputId": "3321081a-221d-4d6a-b75d-aeb44e7607d5"
      },
      "execution_count": 3,
      "outputs": [
        {
          "output_type": "stream",
          "name": "stdout",
          "text": [
            "Found 7073 images belonging to 6 classes.\n",
            "Found 1764 images belonging to 6 classes.\n"
          ]
        }
      ]
    },
    {
      "cell_type": "code",
      "source": [
        "def history_plot(history):\n",
        "  fig=plt.figure(figsize=(15 , 7))\n",
        "  plt.plot(history.history['loss'])\n",
        "  plt.plot(history.history['val_loss'])\n",
        "  plt.title(\"model accuracy\")\n",
        "  plt.ylabel(\"Accuracy\")\n",
        "  plt.xlabel(\"Epoch\")\n",
        "  plt.legend([\"Accuracy\",\"Validation Accuracy\",\"loss\",\"Validation Loss\"])\n",
        "  plt.show()\n"
      ],
      "metadata": {
        "id": "6JlNmLzCtGnx"
      },
      "execution_count": 12,
      "outputs": []
    },
    {
      "cell_type": "code",
      "source": [
        "def Convolutional_w_Batch_Normalisation(prev_layer , num_kernels , filter_Size , strides =(1,1) , padding = 'same', kernel_regularizer = regularizers.L2(0.001)):\n",
        "    x = Conv2D(filters=num_kernels, kernel_size = filter_Size, strides=strides , padding=padding, kernel_regularizer = kernel_regularizer)(prev_layer)\n",
        "    x = BatchNormalization(axis=3)(x)\n",
        "    x = Activation(activation='relu')(x)\n",
        "    return x\n",
        "\n",
        "def Convolutional_without_Activation(prev_layer , num_kernels , filter_Size , strides =(1,1) , padding = 'same', kernel_regularizer = regularizers.L2(0.001)):\n",
        "    x = Conv2D(filters=num_kernels, kernel_size = filter_Size, strides=strides , padding=padding, kernel_regularizer = kernel_regularizer)(prev_layer)\n",
        "    x = BatchNormalization(axis=3)(x)\n",
        "    return x"
      ],
      "metadata": {
        "id": "oQPuKEdr0QSm"
      },
      "execution_count": 5,
      "outputs": []
    },
    {
      "cell_type": "code",
      "source": [
        "def identityBlock(x, kernels): \n",
        "  x_skip = x \n",
        "  k1, k2 = kernels\n",
        "\n",
        "  #first block \n",
        "  x = Convolutional_w_Batch_Normalisation(x ,num_kernels = k1 , filter_Size=(1, 1) , strides =(1,1) , padding = 'valid', kernel_regularizer=regularizers.L2(0.001))\n",
        "\n",
        "  #second block (bottleneck)\n",
        "  x = Convolutional_w_Batch_Normalisation(x ,num_kernels = k1 , filter_Size=(3, 3) , strides =(1,1) , padding = 'same', kernel_regularizer=regularizers.L2(0.001))\n",
        "\n",
        "  # third block\n",
        "  x = Convolutional_without_Activation(x , num_kernels = k2 , filter_Size =(1, 1) , strides =(1,1) , padding = 'valid', kernel_regularizer = regularizers.L2(0.001))\n",
        "\n",
        "  # add the input \n",
        "  x = Add()([x, x_skip])\n",
        "  x = Activation('relu')(x)\n",
        "  return x"
      ],
      "metadata": {
        "id": "NI9Qa0BZ0QVR"
      },
      "execution_count": 6,
      "outputs": []
    },
    {
      "cell_type": "code",
      "source": [
        "def convBlock(x, s, kernels):\n",
        "  x_skip = x\n",
        "  k1, k2 = kernels\n",
        "\n",
        "  # first block\n",
        "  x = Convolutional_w_Batch_Normalisation(x ,num_kernels = k1 , filter_Size=(1, 1) , strides = (s, s) , padding = 'valid', kernel_regularizer=regularizers.L2(0.001))\n",
        "\n",
        "  # second block\n",
        "  x = Convolutional_w_Batch_Normalisation(x ,num_kernels = k1 , filter_Size=(3, 3) , strides = (1, 1) , padding = 'same', kernel_regularizer=regularizers.L2(0.001))\n",
        "\n",
        "  #third block\n",
        "  x = Convolutional_without_Activation(x ,num_kernels = k2 , filter_Size=(1, 1) , strides = (1, 1) , padding = 'valid', kernel_regularizer=regularizers.L2(0.001))\n",
        "\n",
        "  # shortcut \n",
        "  x_skip = Convolutional_without_Activation(x_skip ,num_kernels = k2 , filter_Size=(1, 1) , strides = (s, s) , padding = 'valid', kernel_regularizer=regularizers.L2(0.001))\n",
        "\n",
        "  # add \n",
        "  x = Add()([x, x_skip])\n",
        "  x = Activation(\"relu\")(x)\n",
        "\n",
        "  return x"
      ],
      "metadata": {
        "id": "9CkKEdWW0QYo"
      },
      "execution_count": 7,
      "outputs": []
    },
    {
      "cell_type": "code",
      "source": [
        "def resnet50(in_shape = (64, 64, 3), classes = 6):\n",
        "\n",
        "  input_im = Input(shape=in_shape)\n",
        "\n",
        "  x = ZeroPadding2D(padding=(3, 3))(input_im)\n",
        "\n",
        "  # 1st stage\n",
        "  x = Conv2D(64, kernel_size=(7, 7), strides=(2, 2))(x)\n",
        "  x = BatchNormalization()(x)\n",
        "  x = Activation(\"relu\")(x)\n",
        "  x = MaxPooling2D((3, 3), strides=(2, 2))(x)\n",
        "\n",
        "  #2nd stage \n",
        "  x = convBlock(x, s=1, kernels=(64, 256))\n",
        "  x = identityBlock(x, kernels=(64, 256))\n",
        "  x = identityBlock(x, kernels=(64, 256))\n",
        "\n",
        "  # 3rd stage\n",
        "  x = convBlock(x, s=2, kernels=(128, 512))\n",
        "  x = identityBlock(x, kernels=(128, 512))\n",
        "  x = identityBlock(x, kernels=(128, 512))\n",
        "  x = identityBlock(x, kernels=(128, 512))\n",
        "\n",
        "  # 4th stage\n",
        "  x = convBlock(x, s=2, kernels=(256, 1024))\n",
        "  x = identityBlock(x, kernels=(256, 1024))\n",
        "  x = identityBlock(x, kernels=(256, 1024))\n",
        "  x = identityBlock(x, kernels=(256, 1024))\n",
        "  x = identityBlock(x, kernels=(256, 1024))\n",
        "  x = identityBlock(x, kernels=(256, 1024))\n",
        "\n",
        "  # 5th stage\n",
        "  x = convBlock(x, s=2, kernels=(512, 2048))\n",
        "  x = identityBlock(x, kernels=(512, 2048))\n",
        "  x = identityBlock(x, kernels=(512, 2048))\n",
        "\n",
        "  # ends with average pooling and dense connection\n",
        "  x = AveragePooling2D((2, 2), padding='same')(x)  #we need try global also\n",
        "\n",
        "  x = Flatten()(x)\n",
        "  x = Dense(classes, activation='softmax')(x)\n",
        "\n",
        "  # define the model \n",
        "  model = Model(inputs=input_im, outputs=x)\n",
        "  return model"
      ],
      "metadata": {
        "id": "9M5ZXirb0b0x"
      },
      "execution_count": 8,
      "outputs": []
    },
    {
      "cell_type": "code",
      "source": [
        "model_resnet = resnet50()\n",
        "model_resnet.compile(optimizer='adam', loss='categorical_crossentropy', metrics=['acc'])"
      ],
      "metadata": {
        "id": "LE-uo4Jh0b3Q"
      },
      "execution_count": 9,
      "outputs": []
    },
    {
      "cell_type": "code",
      "source": [
        "from tensorflow.keras.callbacks import EarlyStopping \n",
        "early_stopping = EarlyStopping(restore_best_weights=True,patience=3)"
      ],
      "metadata": {
        "id": "Qn8ZD4TM0b6v"
      },
      "execution_count": 10,
      "outputs": []
    },
    {
      "cell_type": "code",
      "source": [
        "history = model_resnet.fit(train_d,validation_data=valid_d,epochs=30,callbacks = [early_stopping])"
      ],
      "metadata": {
        "colab": {
          "base_uri": "https://localhost:8080/"
        },
        "id": "JiQEoidq7DZF",
        "outputId": "9e1c50eb-ddc9-48ba-d505-ebf828f412fd"
      },
      "execution_count": 11,
      "outputs": [
        {
          "output_type": "stream",
          "name": "stdout",
          "text": [
            "Epoch 1/30\n",
            "443/443 [==============================] - 3257s 7s/step - loss: 16.2898 - acc: 0.4728 - val_loss: 12.9152 - val_acc: 0.3866\n",
            "Epoch 2/30\n",
            "443/443 [==============================] - 51s 115ms/step - loss: 8.8666 - acc: 0.5742 - val_loss: 9.8792 - val_acc: 0.1865\n",
            "Epoch 3/30\n",
            "443/443 [==============================] - 51s 115ms/step - loss: 5.7691 - acc: 0.5958 - val_loss: 6.3918 - val_acc: 0.3588\n",
            "Epoch 4/30\n",
            "443/443 [==============================] - 50s 114ms/step - loss: 4.3688 - acc: 0.6176 - val_loss: 4052.3110 - val_acc: 0.1831\n",
            "Epoch 5/30\n",
            "443/443 [==============================] - 54s 121ms/step - loss: 3.5150 - acc: 0.6402 - val_loss: 3.0857 - val_acc: 0.5975\n",
            "Epoch 6/30\n",
            "443/443 [==============================] - 50s 113ms/step - loss: 3.0249 - acc: 0.6569 - val_loss: 3.0354 - val_acc: 0.6049\n",
            "Epoch 7/30\n",
            "443/443 [==============================] - 50s 113ms/step - loss: 2.9500 - acc: 0.6178 - val_loss: 4.3930 - val_acc: 0.3056\n",
            "Epoch 8/30\n",
            "443/443 [==============================] - 53s 120ms/step - loss: 2.8362 - acc: 0.6105 - val_loss: 2.9589 - val_acc: 0.4427\n",
            "Epoch 9/30\n",
            "443/443 [==============================] - 50s 112ms/step - loss: 2.4678 - acc: 0.6091 - val_loss: 2.4509 - val_acc: 0.5006\n",
            "Epoch 10/30\n",
            "443/443 [==============================] - 50s 112ms/step - loss: 2.1496 - acc: 0.6413 - val_loss: 2.0509 - val_acc: 0.6395\n",
            "Epoch 11/30\n",
            "443/443 [==============================] - 49s 111ms/step - loss: 2.0721 - acc: 0.6402 - val_loss: 1.8738 - val_acc: 0.6514\n",
            "Epoch 12/30\n",
            "443/443 [==============================] - 52s 118ms/step - loss: 2.0025 - acc: 0.6342 - val_loss: 3.3477 - val_acc: 0.3844\n",
            "Epoch 13/30\n",
            "443/443 [==============================] - 49s 111ms/step - loss: 1.8268 - acc: 0.6412 - val_loss: 2.1536 - val_acc: 0.5142\n",
            "Epoch 14/30\n",
            "443/443 [==============================] - 49s 110ms/step - loss: 1.6245 - acc: 0.6760 - val_loss: 2.3477 - val_acc: 0.5079\n"
          ]
        }
      ]
    },
    {
      "cell_type": "code",
      "source": [
        "history_plot(history)"
      ],
      "metadata": {
        "id": "g_F5KTyn7M_U",
        "colab": {
          "base_uri": "https://localhost:8080/",
          "height": 458
        },
        "outputId": "6612cb3f-ae2e-4594-940e-4861b7ce8a8b"
      },
      "execution_count": 13,
      "outputs": [
        {
          "output_type": "display_data",
          "data": {
            "text/plain": [
              "<Figure size 1080x504 with 1 Axes>"
            ],
            "image/png": "[encoded data removed]"
          },
          "metadata": {
            "needs_background": "light"
          }
        }
      ]
    }
  ]
}