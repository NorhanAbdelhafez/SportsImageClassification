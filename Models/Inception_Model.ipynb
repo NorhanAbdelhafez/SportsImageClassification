{
  "nbformat": 4,
  "nbformat_minor": 0,
  "metadata": {
    "colab": {
      "provenance": []
    },
    "kernelspec": {
      "name": "python3",
      "display_name": "Python 3"
    },
    "language_info": {
      "name": "python"
    },
    "accelerator": "GPU",
    "gpuClass": "standard"
  },
  "cells": [
    {
      "cell_type": "code",
      "execution_count": 30,
      "metadata": {
        "id": "rVocaqKpQmhF"
      },
      "outputs": [],
      "source": [
        "import keras, os\n",
        "import tensorflow as tf\n",
        "from keras.models import Model\n",
        "import matplotlib.pyplot as plt\n",
        "from keras.models import Sequential\n",
        "from tensorflow.keras.layers import concatenate\n",
        "from keras.preprocessing.image import ImageDataGenerator\n",
        "from tensorflow.keras import datasets, layers, models, losses\n",
        "from keras.layers import Input, Dense, Conv2D, MaxPool2D , Flatten, MaxPooling2D, GlobalAveragePooling2D ,AveragePooling2D, Dropout, Activation, BatchNormalization"
      ]
    },
    {
      "cell_type": "code",
      "source": [
        "from google.colab import drive\n",
        "drive.mount('/content/drive')"
      ],
      "metadata": {
        "id": "nMio5ebHtGiI",
        "colab": {
          "base_uri": "https://localhost:8080/"
        },
        "outputId": "9440e723-fef9-4e46-eb30-099f964e3112"
      },
      "execution_count": 4,
      "outputs": [
        {
          "output_type": "stream",
          "name": "stdout",
          "text": [
            "Drive already mounted at /content/drive; to attempt to forcibly remount, call drive.mount(\"/content/drive\", force_remount=True).\n"
          ]
        }
      ]
    },
    {
      "cell_type": "markdown",
      "source": [
        "# **Read Dataset**"
      ],
      "metadata": {
        "id": "gdk1wjxhuJdz"
      }
    },
    {
      "cell_type": "code",
      "source": [
        "from keras_preprocessing.image import ImageDataGenerator\n",
        "\n",
        "train_DataGenerator = ImageDataGenerator(rescale=1./255, validation_split=0.2)\n",
        "\n",
        "TRAIN_AUG_DIR = r\"/content/drive/MyDrive/New_Train\"\n",
        "\n",
        "labels=['Basketball','Football','Rowing','Swimming','Tennis','Yoga']\n",
        "\n",
        "train_d = train_DataGenerator.flow_from_directory(\n",
        "      TRAIN_AUG_DIR,\n",
        "      classes=labels,\n",
        "      color_mode=\"rgb\",\n",
        "      batch_size=16,\n",
        "      target_size=(224,224),\n",
        "      class_mode=\"categorical\",\n",
        "      subset=\"training\")\n",
        "\n",
        "valid_d = train_DataGenerator.flow_from_directory(\n",
        "    TRAIN_AUG_DIR,\n",
        "    classes=labels,\n",
        "    color_mode=\"rgb\",\n",
        "    batch_size=16,\n",
        "    target_size=(224,224),\n",
        "    class_mode=\"categorical\",\n",
        "    subset=\"validation\"\n",
        ")"
      ],
      "metadata": {
        "id": "ykZaozHWtGkz",
        "colab": {
          "base_uri": "https://localhost:8080/"
        },
        "outputId": "ac5c1381-3d83-41e1-bd57-05b298f8803a"
      },
      "execution_count": 5,
      "outputs": [
        {
          "output_type": "stream",
          "name": "stdout",
          "text": [
            "Found 4686 images belonging to 6 classes.\n",
            "Found 1168 images belonging to 6 classes.\n"
          ]
        }
      ]
    },
    {
      "cell_type": "markdown",
      "source": [
        "# **History Plot**"
      ],
      "metadata": {
        "id": "fq27rz2VuLWH"
      }
    },
    {
      "cell_type": "code",
      "source": [
        "def history_plot(history):\n",
        "  fig=plt.figure(figsize=(15 , 7))\n",
        "  # plt.plot(history.history[\"acc\"])\n",
        "  # plt.plot(history.history['val_acc'])\n",
        "  plt.plot(history.history['loss'])\n",
        "  plt.plot(history.history['val_loss'])\n",
        "  plt.title(\"model accuracy\")\n",
        "  plt.ylabel(\"Accuracy\")\n",
        "  plt.xlabel(\"Epoch\")\n",
        "  plt.legend([\"Accuracy\",\"Validation Accuracy\",\"loss\",\"Validation Loss\"])\n",
        "  plt.show()"
      ],
      "metadata": {
        "id": "6JlNmLzCtGnx"
      },
      "execution_count": 98,
      "outputs": []
    },
    {
      "cell_type": "markdown",
      "source": [
        "# **Inception Model**"
      ],
      "metadata": {
        "id": "_S8GGBfJuPWw"
      }
    },
    {
      "cell_type": "code",
      "source": [
        "def Convolutional_with_Batch_Normalisation(prev_layer , num_kernels , filter_Size , strides =(1,1) , padding = 'same'):\n",
        "  x = Conv2D(filters=num_kernels, kernel_size = filter_Size, strides=strides , padding=padding)(prev_layer)\n",
        "  x = BatchNormalization(axis=3)(x)\n",
        "  x = Activation(activation='relu')(x)\n",
        "  return x"
      ],
      "metadata": {
        "id": "85_OqAtdUs2P"
      },
      "execution_count": 7,
      "outputs": []
    },
    {
      "cell_type": "code",
      "source": [
        "def Stem(prev_layer):\n",
        "  x = Convolutional_with_Batch_Normalisation(prev_layer, num_kernels = 32, filter_Size=(3,3) , strides=(2,2))\n",
        "  x = Convolutional_with_Batch_Normalisation(x, num_kernels = 32, filter_Size=(3,3))\n",
        "  x = Convolutional_with_Batch_Normalisation(x, num_kernels = 64, filter_Size=(3,3))\n",
        "  x = MaxPool2D(pool_size=(3,3) , strides=(2,2)) (x)\n",
        "  x = Convolutional_with_Batch_Normalisation(x, num_kernels = 80, filter_Size=(1,1))\n",
        "  x = Convolutional_with_Batch_Normalisation(x, num_kernels = 192, filter_Size=(3,3))\n",
        "  x = MaxPool2D(pool_size=(3,3) , strides=(2,2)) (x)\n",
        "  return x"
      ],
      "metadata": {
        "id": "WYkJOnG5UtZW"
      },
      "execution_count": 8,
      "outputs": []
    },
    {
      "cell_type": "code",
      "source": [
        "def Inception_A(prev_layer  , num_kernels):   \n",
        "  branch1 = Convolutional_with_Batch_Normalisation(prev_layer, num_kernels = 64, filter_Size = (1,1))\n",
        "  branch1 = Convolutional_with_Batch_Normalisation(branch1, num_kernels=96, filter_Size=(3,3))\n",
        "  branch1 = Convolutional_with_Batch_Normalisation(branch1, num_kernels=96, filter_Size=(3,3))\n",
        "  \n",
        "  branch2 = Convolutional_with_Batch_Normalisation(prev_layer, num_kernels=48, filter_Size=(1,1))\n",
        "  branch2 = Convolutional_with_Batch_Normalisation(branch2, num_kernels=64, filter_Size=(3,3))\n",
        "  \n",
        "  branch3 = AveragePooling2D(pool_size=(3,3) , strides=(1,1) , padding='same') (prev_layer)\n",
        "  branch3 = Convolutional_with_Batch_Normalisation(branch3, num_kernels = num_kernels, filter_Size = (1,1))\n",
        "  \n",
        "  branch4 = Convolutional_with_Batch_Normalisation(prev_layer, num_kernels=64, filter_Size=(1,1))\n",
        "  \n",
        "  output = concatenate([branch1 , branch2 , branch3 , branch4], axis=3)\n",
        "  \n",
        "  return output"
      ],
      "metadata": {
        "id": "FeJEA8StUtb0"
      },
      "execution_count": 10,
      "outputs": []
    },
    {
      "cell_type": "code",
      "source": [
        "def Inception_B(prev_layer , num_kernels):\n",
        "  branch1 = Convolutional_with_Batch_Normalisation(prev_layer, num_kernels = num_kernels, filter_Size = (1,1))\n",
        "  branch1 = Convolutional_with_Batch_Normalisation(branch1, num_kernels = num_kernels, filter_Size = (7,1))\n",
        "  branch1 = Convolutional_with_Batch_Normalisation(branch1, num_kernels = num_kernels, filter_Size = (1,7))\n",
        "  branch1 = Convolutional_with_Batch_Normalisation(branch1, num_kernels = num_kernels, filter_Size = (7,1))    \n",
        "  branch1 = Convolutional_with_Batch_Normalisation(branch1, num_kernels = 192, filter_Size = (1,7))\n",
        "  \n",
        "  branch2 = Convolutional_with_Batch_Normalisation(prev_layer, num_kernels = num_kernels, filter_Size = (1,1))\n",
        "  branch2 = Convolutional_with_Batch_Normalisation(branch2, num_kernels = num_kernels, filter_Size = (1,7))\n",
        "  branch2 = Convolutional_with_Batch_Normalisation(branch2, num_kernels = 192, filter_Size = (7,1))\n",
        "  \n",
        "  branch3 = AveragePooling2D(pool_size=(3,3) , strides=(1,1) , padding ='same') (prev_layer)\n",
        "  branch3 = Convolutional_with_Batch_Normalisation(branch3, num_kernels = 192, filter_Size = (1,1))\n",
        "  \n",
        "  branch4 = Convolutional_with_Batch_Normalisation(prev_layer, num_kernels = 192, filter_Size = (1,1))\n",
        "  \n",
        "  output = concatenate([branch1 , branch2 , branch3 , branch4], axis = 3)\n",
        "  \n",
        "  return output"
      ],
      "metadata": {
        "id": "ACDg1-vKUteV"
      },
      "execution_count": 11,
      "outputs": []
    },
    {
      "cell_type": "code",
      "source": [
        "def Inception_C(prev_layer):\n",
        "  branch1 = Convolutional_with_Batch_Normalisation(prev_layer, num_kernels = 448, filter_Size = (1,1))\n",
        "  branch1 = Convolutional_with_Batch_Normalisation(branch1, num_kernels = 384, filter_Size = (3,3))\n",
        "  branch1_1 = Convolutional_with_Batch_Normalisation(branch1, num_kernels = 384, filter_Size = (1,3))    \n",
        "  branch1_2 = Convolutional_with_Batch_Normalisation(branch1, num_kernels = 384, filter_Size = (3,1))\n",
        "  branch1 = concatenate([branch1_1 , branch1_2], axis = 3)\n",
        "  \n",
        "  branch2 = Convolutional_with_Batch_Normalisation(prev_layer, num_kernels = 384, filter_Size = (1,1))\n",
        "  branch2_1 = Convolutional_with_Batch_Normalisation(branch2, num_kernels = 384, filter_Size = (1,3))\n",
        "  branch2_2 = Convolutional_with_Batch_Normalisation(branch2, num_kernels = 384, filter_Size = (3,1))\n",
        "  branch2 = concatenate([branch2_1 , branch2_2], axis = 3)\n",
        "  \n",
        "  branch3 = AveragePooling2D(pool_size=(3,3) , strides=(1,1) , padding='same')(prev_layer)\n",
        "  branch3 = Convolutional_with_Batch_Normalisation(branch3, num_kernels = 192, filter_Size = (1,1))\n",
        "  \n",
        "  branch4 = Convolutional_with_Batch_Normalisation(prev_layer, num_kernels = 320, filter_Size = (1,1))\n",
        "  \n",
        "  output = concatenate([branch1 , branch2 , branch3 , branch4], axis = 3)\n",
        "  \n",
        "  return output"
      ],
      "metadata": {
        "id": "6xeqW1gZUtg8"
      },
      "execution_count": 12,
      "outputs": []
    },
    {
      "cell_type": "code",
      "source": [
        "def Reduction_A(prev_layer):\n",
        "  branch1 = Convolutional_with_Batch_Normalisation(prev_layer, num_kernels = 64, filter_Size = (1,1))\n",
        "  branch1 = Convolutional_with_Batch_Normalisation(branch1, num_kernels = 96, filter_Size = (3,3))\n",
        "  branch1 = Convolutional_with_Batch_Normalisation(branch1, num_kernels = 96, filter_Size = (3,3) , strides=(2,2))\n",
        "  \n",
        "  branch2 = Convolutional_with_Batch_Normalisation(prev_layer, num_kernels = 384, filter_Size=(3,3) , strides=(2,2))\n",
        "  \n",
        "  branch3 = MaxPool2D(pool_size=(3,3) , strides=(2,2) , padding='same')(prev_layer)\n",
        "  \n",
        "  output = concatenate([branch1 , branch2 , branch3], axis = 3)\n",
        "  \n",
        "  return output"
      ],
      "metadata": {
        "id": "8aXxePqVUtj2"
      },
      "execution_count": 13,
      "outputs": []
    },
    {
      "cell_type": "code",
      "source": [
        "def Reduction_B(prev_layer):\n",
        "  branch1 = Convolutional_with_Batch_Normalisation(prev_layer, num_kernels = 192, filter_Size = (1,1))\n",
        "  branch1 = Convolutional_with_Batch_Normalisation(branch1, num_kernels = 192, filter_Size = (1,7))\n",
        "  branch1 = Convolutional_with_Batch_Normalisation(branch1, num_kernels = 192, filter_Size = (7,1))\n",
        "  branch1 = Convolutional_with_Batch_Normalisation(branch1, num_kernels = 192, filter_Size = (3,3) , strides=(2,2) , padding = 'valid')\n",
        "  \n",
        "  branch2 = Convolutional_with_Batch_Normalisation(prev_layer, num_kernels = 192, filter_Size = (1,1))\n",
        "  branch2 = Convolutional_with_Batch_Normalisation(branch2, num_kernels = 320, filter_Size = (3,3) , strides=(2,2) , padding='valid')\n",
        "\n",
        "  branch3 = MaxPool2D(pool_size=(3,3) , strides=(2,2) )(prev_layer)\n",
        "  \n",
        "  output = concatenate([branch1 , branch2 , branch3], axis = 3)\n",
        "  \n",
        "  return output"
      ],
      "metadata": {
        "id": "3b-4ESm2UtmW"
      },
      "execution_count": 14,
      "outputs": []
    },
    {
      "cell_type": "code",
      "source": [
        "def auxiliary_classifier(prev_Layer):\n",
        "  x = AveragePooling2D(pool_size=(5,5) , strides=(3,3)) (prev_Layer)\n",
        "  x = Convolutional_with_Batch_Normalisation(x, num_kernels = 128, filter_Size = (1,1))\n",
        "  x = Flatten()(x)\n",
        "  x = Dense(units = 768, activation='relu') (x)\n",
        "  x = Dropout(rate = 0.2) (x)\n",
        "  x = Dense(units = 6, activation='softmax') (x)\n",
        "  return x"
      ],
      "metadata": {
        "id": "W91Btz8eUtpG"
      },
      "execution_count": 15,
      "outputs": []
    },
    {
      "cell_type": "code",
      "source": [
        "def InceptionV3():\n",
        "  input_layer = Input(shape=(224 , 224 , 3))\n",
        "    \n",
        "  x = Stem(input_layer)\n",
        "  \n",
        "  x = Inception_A(prev_layer = x ,num_kernels = 32)\n",
        "  x = Inception_A(prev_layer = x ,num_kernels = 64)\n",
        "  x = Inception_A(prev_layer = x ,num_kernels = 64)\n",
        "  \n",
        "  x = Reduction_A(prev_layer = x )\n",
        "  \n",
        "  x = Inception_B(prev_layer = x  , num_kernels = 128)\n",
        "  x = Inception_B(prev_layer = x , num_kernels = 160)\n",
        "  x = Inception_B(prev_layer = x , num_kernels = 160)\n",
        "  x = Inception_B(prev_layer = x , num_kernels = 192)\n",
        "  \n",
        "  Aux = auxiliary_classifier(prev_Layer = x)\n",
        "  \n",
        "  x = Reduction_B(prev_layer = x)\n",
        "  \n",
        "  x = Inception_C(prev_layer = x)\n",
        "  x = Inception_C(prev_layer = x)\n",
        "  \n",
        "  x = GlobalAveragePooling2D()(x)\n",
        "  x = Dense(units=2048, activation='relu') (x)\n",
        "  x = Dropout(rate = 0.2) (x)\n",
        "  x = Dense(units=6, activation='softmax') (x)\n",
        "  \n",
        "  model = Model(inputs = input_layer , outputs = [x , Aux])    \n",
        "  return model"
      ],
      "metadata": {
        "id": "VmYq1SJxUtsh"
      },
      "execution_count": 16,
      "outputs": []
    },
    {
      "cell_type": "code",
      "source": [
        "from tensorflow.keras.optimizers import RMSprop\n",
        "model_inception_v3 = InceptionV3()\n",
        "model_inception_v3.compile( optimizer = RMSprop(lr=0.0001), loss = 'categorical_crossentropy', metrics = ['accuracy'])\n",
        "# model.compile(optimizer='adam', loss=\"categorical_crossentropy\", metrics=['accuracy'])"
      ],
      "metadata": {
        "id": "s-h8EwaGtGs0"
      },
      "execution_count": 53,
      "outputs": []
    },
    {
      "cell_type": "code",
      "source": [
        "from tensorflow.keras.callbacks import EarlyStopping \n",
        "early_stopping = EarlyStopping(restore_best_weights=True,patience=3)"
      ],
      "metadata": {
        "id": "H-eD--PpJ-QZ"
      },
      "execution_count": 52,
      "outputs": []
    },
    {
      "cell_type": "code",
      "source": [
        "history = model_inception_v3.fit(train_d,validation_data=valid_d,epochs=30,callbacks = [early_stopping])"
      ],
      "metadata": {
        "id": "WM36vxYutGvW",
        "colab": {
          "base_uri": "https://localhost:8080/"
        },
        "outputId": "627d959b-69ea-4f24-fee0-392ff146c39f"
      },
      "execution_count": 54,
      "outputs": [
        {
          "output_type": "stream",
          "name": "stdout",
          "text": [
            "Epoch 1/30\n",
            "293/293 [==============================] - 85s 220ms/step - loss: 2.3652 - dense_11_loss: 1.2442 - dense_9_loss: 1.1211 - dense_11_accuracy: 0.5625 - dense_9_accuracy: 0.6058 - val_loss: 6.4259 - val_dense_11_loss: 2.8677 - val_dense_9_loss: 3.5582 - val_dense_11_accuracy: 0.3878 - val_dense_9_accuracy: 0.2851\n",
            "Epoch 2/30\n",
            "293/293 [==============================] - 62s 211ms/step - loss: 1.7724 - dense_11_loss: 0.9355 - dense_9_loss: 0.8369 - dense_11_accuracy: 0.6765 - dense_9_accuracy: 0.7108 - val_loss: 2.0449 - val_dense_11_loss: 1.1873 - val_dense_9_loss: 0.8577 - val_dense_11_accuracy: 0.5942 - val_dense_9_accuracy: 0.7072\n",
            "Epoch 3/30\n",
            "293/293 [==============================] - 63s 214ms/step - loss: 1.5247 - dense_11_loss: 0.8178 - dense_9_loss: 0.7069 - dense_11_accuracy: 0.7138 - dense_9_accuracy: 0.7516 - val_loss: 1.6815 - val_dense_11_loss: 0.9206 - val_dense_9_loss: 0.7609 - val_dense_11_accuracy: 0.7457 - val_dense_9_accuracy: 0.7765\n",
            "Epoch 4/30\n",
            "293/293 [==============================] - 64s 218ms/step - loss: 1.2632 - dense_11_loss: 0.6893 - dense_9_loss: 0.5739 - dense_11_accuracy: 0.7648 - dense_9_accuracy: 0.7975 - val_loss: 1.8744 - val_dense_11_loss: 1.1171 - val_dense_9_loss: 0.7573 - val_dense_11_accuracy: 0.7406 - val_dense_9_accuracy: 0.7894\n",
            "Epoch 5/30\n",
            "293/293 [==============================] - 62s 212ms/step - loss: 1.0744 - dense_11_loss: 0.5976 - dense_9_loss: 0.4768 - dense_11_accuracy: 0.8005 - dense_9_accuracy: 0.8423 - val_loss: 2.0303 - val_dense_11_loss: 1.1090 - val_dense_9_loss: 0.9212 - val_dense_11_accuracy: 0.7483 - val_dense_9_accuracy: 0.7877\n",
            "Epoch 6/30\n",
            "293/293 [==============================] - 62s 212ms/step - loss: 0.9351 - dense_11_loss: 0.5233 - dense_9_loss: 0.4119 - dense_11_accuracy: 0.8242 - dense_9_accuracy: 0.8585 - val_loss: 1.2217 - val_dense_11_loss: 0.6075 - val_dense_9_loss: 0.6142 - val_dense_11_accuracy: 0.8305 - val_dense_9_accuracy: 0.8356\n",
            "Epoch 7/30\n",
            "293/293 [==============================] - 64s 218ms/step - loss: 0.7703 - dense_11_loss: 0.4379 - dense_9_loss: 0.3323 - dense_11_accuracy: 0.8530 - dense_9_accuracy: 0.8850 - val_loss: 0.8998 - val_dense_11_loss: 0.4896 - val_dense_9_loss: 0.4103 - val_dense_11_accuracy: 0.8562 - val_dense_9_accuracy: 0.8784\n",
            "Epoch 8/30\n",
            "293/293 [==============================] - 62s 213ms/step - loss: 0.6402 - dense_11_loss: 0.3720 - dense_9_loss: 0.2682 - dense_11_accuracy: 0.8775 - dense_9_accuracy: 0.9059 - val_loss: 1.1713 - val_dense_11_loss: 0.6661 - val_dense_9_loss: 0.5051 - val_dense_11_accuracy: 0.8399 - val_dense_9_accuracy: 0.8699\n",
            "Epoch 9/30\n",
            "293/293 [==============================] - 62s 211ms/step - loss: 0.5273 - dense_11_loss: 0.3106 - dense_9_loss: 0.2166 - dense_11_accuracy: 0.8967 - dense_9_accuracy: 0.9300 - val_loss: 1.4567 - val_dense_11_loss: 0.7475 - val_dense_9_loss: 0.7092 - val_dense_11_accuracy: 0.8450 - val_dense_9_accuracy: 0.8510\n",
            "Epoch 10/30\n",
            "293/293 [==============================] - 64s 217ms/step - loss: 0.5059 - dense_11_loss: 0.2998 - dense_9_loss: 0.2061 - dense_11_accuracy: 0.9057 - dense_9_accuracy: 0.9356 - val_loss: 0.8877 - val_dense_11_loss: 0.4691 - val_dense_9_loss: 0.4187 - val_dense_11_accuracy: 0.8776 - val_dense_9_accuracy: 0.8921\n",
            "Epoch 11/30\n",
            "293/293 [==============================] - 62s 212ms/step - loss: 0.4360 - dense_11_loss: 0.2578 - dense_9_loss: 0.1782 - dense_11_accuracy: 0.9191 - dense_9_accuracy: 0.9417 - val_loss: 1.8410 - val_dense_11_loss: 0.9871 - val_dense_9_loss: 0.8538 - val_dense_11_accuracy: 0.7885 - val_dense_9_accuracy: 0.8330\n",
            "Epoch 12/30\n",
            "293/293 [==============================] - 62s 212ms/step - loss: 0.4068 - dense_11_loss: 0.2415 - dense_9_loss: 0.1653 - dense_11_accuracy: 0.9234 - dense_9_accuracy: 0.9516 - val_loss: 0.7206 - val_dense_11_loss: 0.3351 - val_dense_9_loss: 0.3855 - val_dense_11_accuracy: 0.9144 - val_dense_9_accuracy: 0.9212\n",
            "Epoch 13/30\n",
            "293/293 [==============================] - 64s 218ms/step - loss: 0.3689 - dense_11_loss: 0.2221 - dense_9_loss: 0.1468 - dense_11_accuracy: 0.9274 - dense_9_accuracy: 0.9513 - val_loss: 1.0961 - val_dense_11_loss: 0.5697 - val_dense_9_loss: 0.5264 - val_dense_11_accuracy: 0.8733 - val_dense_9_accuracy: 0.8853\n",
            "Epoch 14/30\n",
            "293/293 [==============================] - 62s 212ms/step - loss: 0.3134 - dense_11_loss: 0.1921 - dense_9_loss: 0.1213 - dense_11_accuracy: 0.9420 - dense_9_accuracy: 0.9624 - val_loss: 1.1653 - val_dense_11_loss: 0.5478 - val_dense_9_loss: 0.6174 - val_dense_11_accuracy: 0.8955 - val_dense_9_accuracy: 0.9015\n",
            "Epoch 15/30\n",
            "293/293 [==============================] - 62s 213ms/step - loss: 0.3034 - dense_11_loss: 0.1855 - dense_9_loss: 0.1179 - dense_11_accuracy: 0.9426 - dense_9_accuracy: 0.9616 - val_loss: 1.0659 - val_dense_11_loss: 0.5121 - val_dense_9_loss: 0.5539 - val_dense_11_accuracy: 0.8904 - val_dense_9_accuracy: 0.9007\n"
          ]
        }
      ]
    },
    {
      "cell_type": "code",
      "source": [
        "from tensorflow.keras.models import load_model\n",
        "model_inception_v3.save('model_inception_v3_.h5')"
      ],
      "metadata": {
        "id": "_wSrVImdrWD5"
      },
      "execution_count": 71,
      "outputs": []
    },
    {
      "cell_type": "code",
      "source": [
        "history_plot(history)"
      ],
      "metadata": {
        "id": "_8-N2z3dtGzA",
        "colab": {
          "base_uri": "https://localhost:8080/",
          "height": 458
        },
        "outputId": "e1086cdc-f272-460d-a42b-56418f1481f3"
      },
      "execution_count": 99,
      "outputs": [
        {
          "output_type": "display_data",
          "data": {
            "text/plain": [
              "<Figure size 1080x504 with 1 Axes>"
            ],
            "image/png": "[encoded data removed]"
          },
          "metadata": {
            "needs_background": "light"
          }
        }
      ]
    },
    {
      "cell_type": "markdown",
      "source": [
        "# **Save Model**"
      ],
      "metadata": {
        "id": "goDaDukduXJD"
      }
    },
    {
      "cell_type": "code",
      "source": [
        "# from keras.models import model_from_json\n",
        "# import os\n",
        "\n",
        "# model_json = model.to_json()\n",
        "\n",
        "# with open(\"model.json\", \"w\") as json_file:\n",
        "#     json_file.write(model_json)\n",
        "\n",
        "# model.save_weights(os.path.join(os.getcwd(), 'model.h5'))"
      ],
      "metadata": {
        "id": "rUy4-qOiuF9O"
      },
      "execution_count": null,
      "outputs": []
    }
  ]
}