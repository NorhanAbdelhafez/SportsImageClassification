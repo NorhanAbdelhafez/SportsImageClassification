{
  "nbformat": 4,
  "nbformat_minor": 0,
  "metadata": {
    "colab": {
      "provenance": []
    },
    "kernelspec": {
      "name": "python3",
      "display_name": "Python 3"
    },
    "language_info": {
      "name": "python"
    }
  },
  "cells": [
    {
      "cell_type": "code",
      "execution_count": null,
      "metadata": {
        "id": "rVocaqKpQmhF"
      },
      "outputs": [],
      "source": [
        "import keras, os\n",
        "import tensorflow as tf\n",
        "from keras.models import Model\n",
        "import matplotlib.pyplot as plt\n",
        "from keras.models import Sequential\n",
        "from tensorflow.keras.layers import concatenate\n",
        "from keras.preprocessing.image import ImageDataGenerator\n",
        "from tensorflow.keras import datasets, layers, models, losses\n",
        "from keras.layers import Input, Dense, Conv2D, MaxPool2D , Flatten, MaxPooling2D, GlobalAveragePooling2D ,AveragePooling2D, Dropout, Activation, BatchNormalization"
      ]
    },
    {
      "cell_type": "code",
      "source": [
        "from google.colab import drive\n",
        "drive.mount('/content/drive')"
      ],
      "metadata": {
        "id": "nMio5ebHtGiI"
      },
      "execution_count": null,
      "outputs": []
    },
    {
      "cell_type": "markdown",
      "source": [
        "# **Read Dataset**"
      ],
      "metadata": {
        "id": "gdk1wjxhuJdz"
      }
    },
    {
      "cell_type": "code",
      "source": [
        "TRAIN_AUG_DIR = r\"/content/drive/MyDrive/Train\"\n",
        "VALIDATION_AUG_DIR = r\"/content/drive/MyDrive/Validation\"\n",
        "\n",
        "image_size=(224,224)\n",
        "train_d = tf.keras.preprocessing.image_dataset_from_directory(\n",
        "     TRAIN_AUG_DIR,\n",
        "     labels=\"inferred\",\n",
        "     label_mode=\"categorical\",\n",
        "     color_mode=\"rgb\",\n",
        "     batch_size=64,\n",
        "     image_size=image_size,\n",
        "     seed=111,\n",
        "     shuffle=True\n",
        "    )\n",
        "\n",
        "valid_d =tf.keras.preprocessing.image_dataset_from_directory(\n",
        "    VALIDATION_AUG_DIR,\n",
        "    labels=\"inferred\",\n",
        "    label_mode=\"categorical\",\n",
        "    color_mode=\"rgb\",\n",
        "    batch_size=64,\n",
        "    image_size=image_size,\n",
        "    seed=111,\n",
        "    shuffle=True\n",
        "    )"
      ],
      "metadata": {
        "id": "ykZaozHWtGkz"
      },
      "execution_count": null,
      "outputs": []
    },
    {
      "cell_type": "markdown",
      "source": [
        "# **History Plot**"
      ],
      "metadata": {
        "id": "fq27rz2VuLWH"
      }
    },
    {
      "cell_type": "code",
      "source": [
        "def history_plot(history):\n",
        "  fig, axs = plt.subplots(2, 1, figsize=(15,15))\n",
        "  axs[0].plot(history.history['loss'])\n",
        "  axs[0].plot(history.history['val_loss'])\n",
        "  axs[0].title.set_text('Training Loss vs Validation Loss')\n",
        "  axs[0].set_xlabel('Epochs')\n",
        "  axs[0].set_ylabel('Loss')\n",
        "  axs[0].legend(['Train', 'Val'])\n",
        "\n",
        "  axs[1].plot(history.history['accuracy'])\n",
        "  axs[1].plot(history.history['val_accuracy'])\n",
        "  axs[1].title.set_text('Training Accuracy vs Validation Accuracy')\n",
        "  axs[1].set_xlabel('Epochs')\n",
        "  axs[1].set_ylabel('Accuracy')\n",
        "  axs[1].legend(['Train', 'Val'])"
      ],
      "metadata": {
        "id": "6JlNmLzCtGnx"
      },
      "execution_count": null,
      "outputs": []
    },
    {
      "cell_type": "markdown",
      "source": [
        "# **Inception Model**"
      ],
      "metadata": {
        "id": "_S8GGBfJuPWw"
      }
    },
    {
      "cell_type": "code",
      "source": [
        "filters_1x1=64\n",
        "filters_3x3_reduce=96\n",
        "filters_3x3=128\n",
        "filters_5x5_reduce=16\n",
        "filters_5x5=32\n",
        "filters_pool=32\n",
        "\n",
        "input_img = Input(shape = in_shape)\n",
        "\n",
        "conv_1x1 = Conv2D(filters_1x1, (1, 1), padding='same', activation='relu')(x)\n",
        "\n",
        "conv_3x3 = Conv2D(filters_3x3_reduce, (1, 1), padding='same', activation='relu')(x)\n",
        "conv_3x3 = Conv2D(filters_3x3, (3, 3), padding='same', activation='relu')(conv_3x3)\n",
        "\n",
        "conv_5x5 = Conv2D(filters_5x5_reduce, (1, 1), padding='same', activation='relu')(x)\n",
        "conv_5x5 = Conv2D(filters_5x5, (5, 5), padding='same', activation='relu')(conv_5x5)\n",
        "\n",
        "pool = MaxPool2D((3, 3), strides=(1, 1), padding='same')(x)\n",
        "pool = Conv2D(filters_pool, (1, 1), padding='same', activation='relu')(pool)\n",
        "\n",
        "output = concatenate([conv_1x1, conv_3x3, conv_5x5, pool], axis=3)\n",
        "\n",
        "output = Flatten()(output)\n",
        "out    = Dense(num_classes, activation='softmax')(output)\n",
        "model = Model(inputs = input_img, outputs = out)"
      ],
      "metadata": {
        "id": "Qf6BpuIgtGqT"
      },
      "execution_count": null,
      "outputs": []
    },
    {
      "cell_type": "code",
      "source": [
        "model.compile(optimizer=Adam(lr=0.001),loss='categorical_crossentropy', metrics=['accuracy'])\n",
        "# model.compile(optimizer='adam', loss=\"categorical_crossentropy\", metrics=['accuracy'])"
      ],
      "metadata": {
        "id": "s-h8EwaGtGs0"
      },
      "execution_count": null,
      "outputs": []
    },
    {
      "cell_type": "code",
      "source": [
        "history = model.fit(train_generator, epochs=20, validation_data=validation_generator)"
      ],
      "metadata": {
        "id": "WM36vxYutGvW"
      },
      "execution_count": null,
      "outputs": []
    },
    {
      "cell_type": "code",
      "source": [
        "history_plot(history)"
      ],
      "metadata": {
        "id": "_8-N2z3dtGzA"
      },
      "execution_count": null,
      "outputs": []
    },
    {
      "cell_type": "markdown",
      "source": [
        "# **Save Model**"
      ],
      "metadata": {
        "id": "goDaDukduXJD"
      }
    },
    {
      "cell_type": "code",
      "source": [
        "# from keras.models import model_from_json\n",
        "# import os\n",
        "\n",
        "# model_json = model.to_json()\n",
        "\n",
        "# with open(\"model.json\", \"w\") as json_file:\n",
        "#     json_file.write(model_json)\n",
        "\n",
        "# model.save_weights(os.path.join(os.getcwd(), 'model.h5'))"
      ],
      "metadata": {
        "id": "rUy4-qOiuF9O"
      },
      "execution_count": null,
      "outputs": []
    }
  ]
}