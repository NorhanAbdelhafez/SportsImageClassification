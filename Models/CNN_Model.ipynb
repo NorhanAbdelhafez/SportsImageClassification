{
  "nbformat": 4,
  "nbformat_minor": 0,
  "metadata": {
    "colab": {
      "provenance": []
    },
    "kernelspec": {
      "name": "python3",
      "display_name": "Python 3"
    },
    "language_info": {
      "name": "python"
    }
  },
  "cells": [
    {
      "cell_type": "code",
      "source": [
        "import keras, os\n",
        "import tensorflow as tf\n",
        "from keras.models import Model\n",
        "import matplotlib.pyplot as plt\n",
        "from keras.models import Sequential\n",
        "from tensorflow.keras.layers import concatenate\n",
        "from keras.preprocessing.image import ImageDataGenerator\n",
        "from tensorflow.keras import datasets, layers, models, losses\n",
        "from keras.layers import Input, Dense, Conv2D, MaxPool2D , Flatten, MaxPooling2D, GlobalAveragePooling2D ,AveragePooling2D, Dropout, Activation, BatchNormalization"
      ],
      "metadata": {
        "id": "w5ZV7VDvQztv"
      },
      "execution_count": 1,
      "outputs": []
    },
    {
      "cell_type": "code",
      "execution_count": 2,
      "metadata": {
        "colab": {
          "base_uri": "https://localhost:8080/"
        },
        "id": "KVR0mlMvQlLQ",
        "outputId": "e6bf5d02-aa8f-4ce9-9431-2d6b4fff5f6d"
      },
      "outputs": [
        {
          "output_type": "stream",
          "name": "stdout",
          "text": [
            "Drive already mounted at /content/drive; to attempt to forcibly remount, call drive.mount(\"/content/drive\", force_remount=True).\n"
          ]
        }
      ],
      "source": [
        "from google.colab import drive\n",
        "drive.mount('/content/drive')"
      ]
    },
    {
      "cell_type": "markdown",
      "source": [
        "# **Read Dataset**"
      ],
      "metadata": {
        "id": "InRnB6RlWeab"
      }
    },
    {
      "cell_type": "code",
      "source": [
        "TRAIN_AUG_DIR = r\"/content/drive/MyDrive/Train\"\n",
        "VALIDATION_AUG_DIR = r\"/content/drive/MyDrive/Validation\"\n",
        "\n",
        "image_size=(224,224)\n",
        "train_d = tf.keras.preprocessing.image_dataset_from_directory(\n",
        "     TRAIN_AUG_DIR,\n",
        "     labels=\"inferred\",\n",
        "     label_mode=\"categorical\",\n",
        "     color_mode=\"rgb\",\n",
        "     batch_size=64,\n",
        "     image_size=image_size,\n",
        "     seed=111,\n",
        "     shuffle=True\n",
        "    )\n",
        "\n",
        "valid_d =tf.keras.preprocessing.image_dataset_from_directory(\n",
        "    VALIDATION_AUG_DIR,\n",
        "    labels=\"inferred\",\n",
        "    label_mode=\"categorical\",\n",
        "    color_mode=\"rgb\",\n",
        "    batch_size=64,\n",
        "    image_size=image_size,\n",
        "    seed=111,\n",
        "    shuffle=True\n",
        "    )"
      ],
      "metadata": {
        "colab": {
          "base_uri": "https://localhost:8080/"
        },
        "id": "ewr1AgupWlUx",
        "outputId": "6e074213-85a4-44ba-a5f7-b8d47b42741f"
      },
      "execution_count": 25,
      "outputs": [
        {
          "output_type": "stream",
          "name": "stdout",
          "text": [
            "Found 14262 files belonging to 6 classes.\n",
            "Found 4274 files belonging to 6 classes.\n"
          ]
        }
      ]
    },
    {
      "cell_type": "markdown",
      "source": [
        "# **History Plot**"
      ],
      "metadata": {
        "id": "9BEcZPRNU-DO"
      }
    },
    {
      "cell_type": "code",
      "source": [
        "def history_plot(history):\n",
        "  fig, axs = plt.subplots(2, 1, figsize=(15,15))\n",
        "  axs[0].plot(history.history['loss'])\n",
        "  axs[0].plot(history.history['val_loss'])\n",
        "  axs[0].title.set_text('Training Loss vs Validation Loss')\n",
        "  axs[0].set_xlabel('Epochs')\n",
        "  axs[0].set_ylabel('Loss')\n",
        "  axs[0].legend(['Train', 'Val'])\n",
        "\n",
        "  axs[1].plot(history.history['accuracy'])\n",
        "  axs[1].plot(history.history['val_accuracy'])\n",
        "  axs[1].title.set_text('Training Accuracy vs Validation Accuracy')\n",
        "  axs[1].set_xlabel('Epochs')\n",
        "  axs[1].set_ylabel('Accuracy')\n",
        "  axs[1].legend(['Train', 'Val'])"
      ],
      "metadata": {
        "id": "-HGpcpAUU9Nc"
      },
      "execution_count": 4,
      "outputs": []
    },
    {
      "cell_type": "markdown",
      "source": [
        "# **CNN with 1 Convolutional Layer**"
      ],
      "metadata": {
        "id": "dl1_CDPNUptX"
      }
    },
    {
      "cell_type": "code",
      "source": [
        "cnn1 = tf.keras.models.Sequential([\n",
        "    tf.keras.layers.Conv2D(32, (3,3), activation='relu', input_shape=(224, 224, 3)),\n",
        "    tf.keras.layers.MaxPooling2D(2,2),\n",
        "    tf.keras.layers.Conv2D(32, (3,3), activation='relu'),\n",
        "    tf.keras.layers.MaxPooling2D(2,2),\n",
        "    tf.keras.layers.Conv2D(64, (3,3), activation='relu'),\n",
        "    tf.keras.layers.MaxPooling2D(2,2),\n",
        "    tf.keras.layers.Flatten(),\n",
        "    tf.keras.layers.Dense(128, activation='relu'),\n",
        "    tf.keras.layers.Dense(64, activation='relu'),\n",
        "    tf.keras.layers.Dropout(0.25),\n",
        "    tf.keras.layers.Dense(6, activation='Softmax')\n",
        "])\n",
        "\n",
        "cnn1.compile(optimizer='adam', loss=\"categorical_crossentropy\", metrics=['accuracy'])"
      ],
      "metadata": {
        "id": "njwjiC-AQzv8"
      },
      "execution_count": 15,
      "outputs": []
    },
    {
      "cell_type": "code",
      "source": [
        "history = cnn1.fit(train_d, epochs=20, validation_data=valid_d)"
      ],
      "metadata": {
        "id": "xtlQcfrnQz0l"
      },
      "execution_count": null,
      "outputs": []
    },
    {
      "cell_type": "code",
      "source": [
        "history_plot(history)"
      ],
      "metadata": {
        "id": "5RKkkCg4XDkb"
      },
      "execution_count": null,
      "outputs": []
    },
    {
      "cell_type": "markdown",
      "source": [
        "# **Save Model**"
      ],
      "metadata": {
        "id": "_fEwWr8gXTnQ"
      }
    },
    {
      "cell_type": "code",
      "source": [
        "# from keras.models import model_from_json\n",
        "# import os\n",
        "\n",
        "# model_json = model.to_json()\n",
        "\n",
        "# with open(\"model.json\", \"w\") as json_file:\n",
        "#     json_file.write(model_json)\n",
        "\n",
        "# model.save_weights(os.path.join(os.getcwd(), 'model.h5'))"
      ],
      "metadata": {
        "id": "Mr1pYcfgQz70"
      },
      "execution_count": null,
      "outputs": []
    },
    {
      "cell_type": "code",
      "source": [],
      "metadata": {
        "id": "L2zO4driQz_V"
      },
      "execution_count": null,
      "outputs": []
    }
  ]
}