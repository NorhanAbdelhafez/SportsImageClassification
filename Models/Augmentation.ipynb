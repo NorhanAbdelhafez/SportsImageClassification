{
  "nbformat": 4,
  "nbformat_minor": 0,
  "metadata": {
    "colab": {
      "provenance": []
    },
    "kernelspec": {
      "name": "python3",
      "display_name": "Python 3"
    },
    "language_info": {
      "name": "python"
    }
  },
  "cells": [
    {
      "cell_type": "code",
      "source": [
        "from google.colab import drive\n",
        "drive.mount('/content/drive')"
      ],
      "metadata": {
        "colab": {
          "base_uri": "https://localhost:8080/"
        },
        "id": "2YEWDy_JVaEH",
        "outputId": "692a27c1-8a7a-4a42-8054-30cec49c1d2e"
      },
      "execution_count": 1,
      "outputs": [
        {
          "output_type": "stream",
          "name": "stdout",
          "text": [
            "Drive already mounted at /content/drive; to attempt to forcibly remount, call drive.mount(\"/content/drive\", force_remount=True).\n"
          ]
        }
      ]
    },
    {
      "cell_type": "code",
      "source": [
        "import matplotlib.pyplot as plt\n",
        "import seaborn as sns\n",
        "\n",
        "import keras\n",
        "from keras.models import Sequential\n",
        "from keras.layers import Dense, Conv2D , MaxPool2D , Flatten , Dropout \n",
        "from keras.preprocessing.image import ImageDataGenerator\n",
        "from keras.optimizers import Adam\n",
        "\n",
        "from sklearn.metrics import classification_report,confusion_matrix\n",
        "\n",
        "import tensorflow as tf\n",
        "\n",
        "import cv2\n",
        "import os\n",
        "\n",
        "import numpy as np\n"
      ],
      "metadata": {
        "id": "bWzMheKuLhDF"
      },
      "execution_count": 3,
      "outputs": []
    },
    {
      "cell_type": "markdown",
      "source": [
        "# **Data Augmentation for each image**"
      ],
      "metadata": {
        "id": "bVKfT28pIbca"
      }
    },
    {
      "cell_type": "code",
      "execution_count": 5,
      "metadata": {
        "id": "zG5cdhcEOYBV"
      },
      "outputs": [],
      "source": [
        "#Origin Datasets\n",
        "dir_train ={\n",
        "'basket' : '/content/drive/MyDrive/TRAIN/Basketball',\n",
        "'football' : '/content/drive/MyDrive/TRAIN/Football',\n",
        "'rowing' : '/content/drive/MyDrive/TRAIN/Rowing',\n",
        "'tennis' : '/content/drive/MyDrive/TRAIN/Tennis',\n",
        "'swimming' : '/content/drive/MyDrive/TRAIN/Swimming',\n",
        "'yoga' : '/content/drive/MyDrive/TRAIN/Yoga'\n",
        "}\n",
        "\n",
        "dir_validation = {\n",
        "'basket' : '/content/drive/MyDrive/VALIDATION/Basketball',\n",
        "'football' : '/content/drive/MyDrive/VALIDATION/Football',\n",
        "'rowing' : '/content/drive/MyDrive/VALIDATION/Rowing',\n",
        "'tennis' : '/content/drive/MyDrive/VALIDATION/Tennis',\n",
        "'swimming' : '/content/drive/MyDrive/VALIDATION/Swimming',\n",
        "'yoga' : '/content/drive/MyDrive/VALIDATION/Yoga'\n",
        "}\n",
        "\n",
        "#Augmented Datasets\n",
        "dir_train_aug ={\n",
        "'basket' : '/content/drive/MyDrive/Train/Basketball',\n",
        "'football' : '/content/drive/MyDrive/Train/Football',\n",
        "'rowing' : '/content/drive/MyDrive/Train/Rowing',\n",
        "'tennis' : '/content/drive/MyDrive/Train/Tennis',\n",
        "'swimming' : '/content/drive/MyDrive/Train/Swimming',\n",
        "'yoga' : '/content/drive/MyDrive/Train/Yoga'\n",
        "}\n",
        "\n",
        "dir_validation_aug = {\n",
        "'basket' : '/content/drive/MyDrive/Validation/Basketball',\n",
        "'football' : '/content/drive/MyDrive/Validation/Football',\n",
        "'rowing' : '/content/drive/MyDrive/Validation/Rowing',\n",
        "'tennis' : '/content/drive/MyDrive/Validation/Tennis',\n",
        "'swimming' : '/content/drive/MyDrive/Validation/Swimming',\n",
        "'yoga' : '/content/drive/MyDrive/Validation/Yoga'\n",
        "}\n",
        "\n",
        "sports = {\n",
        "'basket'   : 0,\n",
        "'football' : 1,\n",
        "'rowing'   : 2,\n",
        "'tennis'   : 3,\n",
        "'swimming' : 4,\n",
        "'yoga'     : 5\n",
        "}"
      ]
    },
    {
      "cell_type": "code",
      "source": [
        "import os\n",
        "from keras.preprocessing.image import ImageDataGenerator\n",
        "from tensorflow.keras.utils import array_to_img, img_to_array, load_img\n",
        "   \n",
        "datagen = ImageDataGenerator(\n",
        "      rescale = 1./255,\n",
        "\t    rotation_range=40,\n",
        "      width_shift_range=0.2,\n",
        "      height_shift_range=0.2,\n",
        "      shear_range=0.2,\n",
        "      zoom_range=0.2,\n",
        "      horizontal_flip=True,\n",
        "      fill_mode='nearest',\n",
        "      brightness_range = (0.5, 1.5))\n",
        "    \n",
        "\n",
        "for sport, dir_train_ori, dir_train_aug, dir_valid_ori, dir_valid_aug in zip(dir_train.keys(),dir_train.values(),dir_train_aug.values(),dir_validation.values(),dir_validation_aug.values()):\n",
        "  \n",
        "  for image in os.listdir(dir_train_ori):\n",
        "    \n",
        "    img = load_img(dir_train_ori+'/'+image) \n",
        "    x = img_to_array(img)\n",
        "    x = x.reshape((1, ) + x.shape) \n",
        "    \n",
        "    i = 0\n",
        "    for batch in datagen.flow(x, batch_size = 1, save_to_dir = dir_train_aug, save_prefix = sport, save_format ='png'):\n",
        "        i += 1\n",
        "        if i > 9:\n",
        "            break\n",
        "\n",
        "  \n",
        "  \n",
        "  for image in os.listdir(dir_valid_ori):\n",
        "\n",
        "    img = load_img(dir_valid_ori+'/'+image)\n",
        "    x = img_to_array(img)\n",
        "    x = x.reshape((1, ) + x.shape) \n",
        "    \n",
        "    i = 0\n",
        "    for batch in datagen.flow(x, batch_size = 1, save_to_dir = dir_valid_aug, save_prefix = sport, save_format ='png'):\n",
        "        i += 1\n",
        "        if i > 9:\n",
        "            break"
      ],
      "metadata": {
        "id": "7Rn5uvQTViVM"
      },
      "execution_count": 26,
      "outputs": []
    },
    {
      "cell_type": "code",
      "source": [
        "for sport, dir_train_ori, dir_train_aug, dir_valid_ori, dir_valid_aug in zip(dir_train.keys(), dir_train.values(), dir_train_aug.values(), dir_validation.values(), dir_validation_aug.values()):\n",
        "  print(f\"sport: {sport}\\n train_orig: {len(os.listdir(dir_train_ori))}\\n train_aug: {len(os.listdir(dir_train_aug))}\\n validation_orig: {len(os.listdir(dir_valid_ori))}\\n validation_aug: {len(os.listdir(dir_valid_aug))}\")\n",
        "  print(\"********************************************************************\")"
      ],
      "metadata": {
        "colab": {
          "base_uri": "https://localhost:8080/"
        },
        "id": "7MDHC_ypZFPg",
        "outputId": "9ba8279c-178c-455d-dfc0-d7fbb8e6854b"
      },
      "execution_count": 30,
      "outputs": [
        {
          "output_type": "stream",
          "name": "stdout",
          "text": [
            "sport: basket\n",
            " train_orig: 270\n",
            " train_aug: 2377\n",
            " validation_orig: 76\n",
            " validation_aug: 734\n",
            "********************************************************************\n",
            "sport: football\n",
            " train_orig: 293\n",
            " train_aug: 2543\n",
            " validation_orig: 76\n",
            " validation_aug: 741\n",
            "********************************************************************\n",
            "sport: rowing\n",
            " train_orig: 264\n",
            " train_aug: 2338\n",
            " validation_orig: 73\n",
            " validation_aug: 708\n",
            "********************************************************************\n",
            "sport: tennis\n",
            " train_orig: 241\n",
            " train_aug: 2353\n",
            " validation_orig: 69\n",
            " validation_aug: 652\n",
            "********************************************************************\n",
            "sport: swimming\n",
            " train_orig: 264\n",
            " train_aug: 2321\n",
            " validation_orig: 75\n",
            " validation_aug: 730\n",
            "********************************************************************\n",
            "sport: yoga\n",
            " train_orig: 264\n",
            " train_aug: 2330\n",
            " validation_orig: 73\n",
            " validation_aug: 709\n",
            "********************************************************************\n"
          ]
        }
      ]
    },
    {
      "cell_type": "markdown",
      "source": [
        "# **Read data by `ImageDataGenerator`**"
      ],
      "metadata": {
        "id": "P8iQJuZrLCMy"
      }
    },
    {
      "cell_type": "code",
      "source": [
        "TRAINING_DIR = r\"/content/drive/MyDrive/Train\"\n",
        "VALIDATION_DIR = r\"/content/drive/MyDrive/Validation\"\n",
        "\n",
        "train_datagen = ImageDataGenerator()\n",
        "test_datagen  = ImageDataGenerator()\n",
        "\n",
        "\n",
        "train_generator = train_datagen.flow_from_directory(\n",
        "  TRAINING_DIR,\n",
        "\ttarget_size=(224,224),\n",
        "\tclass_mode='categorical',\n",
        "  batch_size=126 \n",
        "  )   \n",
        "\n",
        "validation_generator = test_datagen.flow_from_directory(\t\n",
        "  VALIDATION_DIR,\n",
        "\ttarget_size=(224,224),\n",
        "\tclass_mode='categorical',\n",
        "  batch_size=126\n",
        "  )"
      ],
      "metadata": {
        "id": "8nU8hO07vP2X"
      },
      "execution_count": null,
      "outputs": []
    },
    {
      "cell_type": "markdown",
      "source": [
        "# **Convert data to Numpy**"
      ],
      "metadata": {
        "id": "Qa0Auta4Liir"
      }
    },
    {
      "cell_type": "code",
      "source": [
        "labels = ['Basketball', 'Football', 'Rowing', 'Tennis', 'Swimming', 'Yoga']\n",
        "\n",
        "img_size = 224\n",
        "\n",
        "def get_data(data_dir):\n",
        "    data = [] \n",
        "    for label in labels: \n",
        "        path = os.path.join(data_dir, label)\n",
        "        class_num = labels.index(label)\n",
        "        for img in os.listdir(path):\n",
        "            try:\n",
        "                img_arr = cv2.imread(os.path.join(path, img))[...,::-1] #convert BGR to RGB format\n",
        "                resized_arr = cv2.resize(img_arr, (img_size, img_size)) # Reshaping images to preferred size\n",
        "                c = [0,0,0,0,0,0]\n",
        "                c[class_num] = 1\n",
        "                data.append([resized_arr, c])\n",
        "            except Exception as e:\n",
        "                print(e)\n",
        "    return np.array(data)\n",
        "\n",
        "train = get_data('/content/drive/MyDrive/TRAIN')\n",
        "val = get_data('/content/drive/MyDrive/VALIDATION')"
      ],
      "metadata": {
        "colab": {
          "base_uri": "https://localhost:8080/"
        },
        "id": "gbnL2UgPMsTO",
        "outputId": "bece34ce-05f9-4b8c-e16e-3d02d66c84f2"
      },
      "execution_count": 4,
      "outputs": [
        {
          "output_type": "stream",
          "name": "stderr",
          "text": [
            "<ipython-input-4-36386d7b9bc9>:19: VisibleDeprecationWarning: Creating an ndarray from ragged nested sequences (which is a list-or-tuple of lists-or-tuples-or ndarrays with different lengths or shapes) is deprecated. If you meant to do this, you must specify 'dtype=object' when creating the ndarray.\n",
            "  return np.array(data)\n"
          ]
        }
      ]
    },
    {
      "cell_type": "code",
      "source": [
        "x_train = []\n",
        "y_train = []\n",
        "x_val = []\n",
        "y_val = []\n",
        "\n",
        "for feature, label in train:\n",
        "  x_train.append(feature)\n",
        "  y_train.append(label)\n",
        "\n",
        "for feature, label in val:\n",
        "  x_val.append(feature)\n",
        "  y_val.append(label)\n",
        "\n",
        "# Normalize the data\n",
        "x_train = np.array(x_train) / 255\n",
        "x_val = np.array(x_val) / 255\n",
        "\n",
        "x_train.reshape(-1, img_size, img_size, 1)\n",
        "y_train = np.array(y_train)\n",
        "\n",
        "x_val.reshape(-1, img_size, img_size, 1)\n",
        "y_val = np.array(y_val)"
      ],
      "metadata": {
        "id": "yNtd8MPaOW04"
      },
      "execution_count": 5,
      "outputs": []
    },
    {
      "cell_type": "code",
      "source": [
        "print(x_train.shape)\n",
        "print(y_train.shape)\n",
        "print(x_val.shape)\n",
        "print(y_val.shape)"
      ],
      "metadata": {
        "id": "ubg1LUJUQNve"
      },
      "execution_count": null,
      "outputs": []
    },
    {
      "cell_type": "code",
      "source": [
        "print(y_train)\n",
        "print(y_val)"
      ],
      "metadata": {
        "id": "-VgXEVPmT5A5"
      },
      "execution_count": null,
      "outputs": []
    },
    {
      "cell_type": "code",
      "source": [
        "# TRAINING_DIR = r\"/content/drive/MyDrive/TRAIN\"\n",
        "\n",
        "# training_datagen = ImageDataGenerator(\n",
        "#       rescale = 1./255,\n",
        "# \t    rotation_range=40,\n",
        "#       width_shift_range=0.2,\n",
        "#       height_shift_range=0.2,\n",
        "#       shear_range=0.2,\n",
        "#       zoom_range=0.2,\n",
        "#       horizontal_flip=True,\n",
        "#       fill_mode='nearest')\n",
        "\n",
        "\n",
        "# VALIDATION_DIR = r\"/content/drive/MyDrive/VALIDATION\"\n",
        "# validation_datagen = ImageDataGenerator(rescale = 1./255)\n",
        "\n",
        "\n",
        "\n",
        "# train_generator = training_datagen.flow_from_directory(\n",
        "# \tTRAINING_DIR,\n",
        "# \ttarget_size=(150,150),\n",
        "# \tclass_mode='categorical',\n",
        "#   batch_size=126,\n",
        "#   save_to_dir = '/content/sample_data/Train'\n",
        "# )\n",
        "\n",
        "# validation_generator = validation_datagen.flow_from_directory(\n",
        "# \tVALIDATION_DIR,\n",
        "# \ttarget_size=(150,150),\n",
        "# \tclass_mode='categorical',\n",
        "#   batch_size=126,\n",
        "#   save_to_dir = '/content/sample_data/validation'\n",
        "# )"
      ],
      "metadata": {
        "id": "fXzfOgwCQJ81"
      },
      "execution_count": null,
      "outputs": []
    }
  ]
}