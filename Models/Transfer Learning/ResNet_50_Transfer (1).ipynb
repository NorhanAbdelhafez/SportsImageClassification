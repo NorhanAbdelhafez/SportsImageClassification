{
  "nbformat": 4,
  "nbformat_minor": 0,
  "metadata": {
    "colab": {
      "provenance": []
    },
    "kernelspec": {
      "name": "python3",
      "display_name": "Python 3"
    },
    "language_info": {
      "name": "python"
    }
  },
  "cells": [
    {
      "cell_type": "code",
      "execution_count": null,
      "metadata": {
        "id": "ZkPvVRc69umG",
        "colab": {
          "base_uri": "https://localhost:8080/"
        },
        "outputId": "8bef1298-a602-4185-e4ed-7488af7954c5"
      },
      "outputs": [
        {
          "output_type": "stream",
          "name": "stdout",
          "text": [
            "Mounted at /content/drive\n"
          ]
        }
      ],
      "source": [
        "from google.colab import drive\n",
        "drive.mount('/content/drive')"
      ]
    },
    {
      "cell_type": "code",
      "source": [
        "import keras, os\n",
        "import tensorflow as tf\n",
        "from keras.models import Model\n",
        "import matplotlib.pyplot as plt\n",
        "from keras.models import Sequential\n",
        "from tensorflow.keras.layers import concatenate\n",
        "from keras.preprocessing.image import ImageDataGenerator\n",
        "from tensorflow.keras import datasets, layers, models, losses\n",
        "from keras.layers import Input, Dense, Conv2D, MaxPool2D , Flatten, MaxPooling2D, GlobalAveragePooling2D ,AveragePooling2D, Dropout, Activation, BatchNormalization\n",
        "from keras.models import load_model\n",
        "from keras_preprocessing.image import load_img\n",
        "from keras_preprocessing.image import img_to_array\n",
        "from tensorflow.keras.applications.vgg16 import VGG16\n",
        "import numpy as np\n",
        "import cv2\n",
        "import os"
      ],
      "metadata": {
        "id": "ZoRsJYjc9w-J"
      },
      "execution_count": null,
      "outputs": []
    },
    {
      "cell_type": "markdown",
      "source": [
        "# **Read Data**"
      ],
      "metadata": {
        "id": "w_txt9T6sARC"
      }
    },
    {
      "cell_type": "code",
      "source": [
        "TRAIN_AUG_DIR = r\"/content/drive/MyDrive/Sports Datasets/Train\"\n",
        "VALIDATION_AUG_DIR = r\"/content/drive/MyDrive/Sports Datasets/Validation\"\n",
        "\n",
        "image_size=(224,224)\n",
        "train_d = tf.keras.preprocessing.image_dataset_from_directory(\n",
        "     TRAIN_AUG_DIR,\n",
        "     labels=\"inferred\",\n",
        "     label_mode=\"categorical\",\n",
        "     color_mode=\"rgb\",\n",
        "     batch_size=64,\n",
        "     image_size=image_size,\n",
        "     seed=111,\n",
        "     shuffle=True)\n",
        "\n",
        "valid_d =tf.keras.preprocessing.image_dataset_from_directory(\n",
        "    VALIDATION_AUG_DIR,\n",
        "    labels=\"inferred\",\n",
        "    label_mode=\"categorical\",\n",
        "    color_mode=\"rgb\",\n",
        "    batch_size=64,\n",
        "    image_size=image_size,\n",
        "    seed=111,\n",
        "    shuffle=True)"
      ],
      "metadata": {
        "colab": {
          "base_uri": "https://localhost:8080/"
        },
        "id": "9u6JmGCeHLV0",
        "outputId": "98fff695-065c-4107-e959-44c3d7a70d16"
      },
      "execution_count": null,
      "outputs": [
        {
          "output_type": "stream",
          "name": "stdout",
          "text": [
            "Found 14262 files belonging to 6 classes.\n",
            "Found 4274 files belonging to 6 classes.\n"
          ]
        }
      ]
    },
    {
      "cell_type": "markdown",
      "source": [
        "# **ResNet-50 _ Model**"
      ],
      "metadata": {
        "id": "s3N1kXSQdiIr"
      }
    },
    {
      "cell_type": "code",
      "source": [
        "from tensorflow.keras.applications import ResNet50\n",
        "base_model = ResNet50(input_shape=(224, 224,3), include_top=False, weights=\"imagenet\")"
      ],
      "metadata": {
        "id": "cUd0_WQaAlmz"
      },
      "execution_count": null,
      "outputs": []
    },
    {
      "cell_type": "code",
      "source": [
        "for layer in base_model.layers:\n",
        "    layer.trainable = False"
      ],
      "metadata": {
        "id": "TIa4c6nVAlpR"
      },
      "execution_count": null,
      "outputs": []
    },
    {
      "cell_type": "code",
      "source": [
        "x = layers.Flatten()(base_model.output)\n",
        "x = layers.Dense(512, activation='relu')(x)\n",
        "x = layers.Dropout(0.2)(x)\n",
        "x = layers.Dense(6, activation='Softmax')(x)\n",
        "model = tf.keras.models.Model(base_model.input, x)\n",
        "model.compile(optimizer = 'adam', loss = 'categorical_crossentropy', metrics = ['acc'])"
      ],
      "metadata": {
        "id": "wfAV96meg2Xi"
      },
      "execution_count": null,
      "outputs": []
    },
    {
      "cell_type": "code",
      "source": [
        "from tensorflow.keras.callbacks import EarlyStopping \n",
        "early_stopping = EarlyStopping(restore_best_weights=True, patience=1)"
      ],
      "metadata": {
        "id": "Xdk4nbqo9xJk"
      },
      "execution_count": null,
      "outputs": []
    },
    {
      "cell_type": "code",
      "source": [
        "resnet_history = model.fit(train_d, epochs=20, validation_data=valid_d, callbacks = [early_stopping])"
      ],
      "metadata": {
        "id": "gnr2lOQm9xL2"
      },
      "execution_count": null,
      "outputs": []
    },
    {
      "cell_type": "code",
      "source": [
        "def history_plot(history):\n",
        "  acc = history.history['acc']\n",
        "  val_acc = history.history['val_acc']\n",
        "  loss = history.history['loss']\n",
        "  val_loss = history.history['val_loss']\n",
        "  epochs_range = range(len(acc))\n",
        "  plt.figure(figsize=(12, 8))\n",
        "  plt.subplot(2, 1, 1)\n",
        "  plt.plot(epochs_range, acc, label='Training Accuracy')\n",
        "  plt.plot(epochs_range, val_acc, label='Validation Accuracy')\n",
        "  plt.legend(loc='lower right')\n",
        "  plt.title('Training and Validation Accuracy')\n",
        "  plt.subplot(2, 1, 2)\n",
        "  plt.plot(epochs_range, loss, label='Training Loss')\n",
        "  plt.plot(epochs_range, val_loss, label='Validation Loss')\n",
        "  plt.legend(loc='upper right')\n",
        "  plt.title('Training and Validation Loss')\n",
        "  plt.show()"
      ],
      "metadata": {
        "id": "CrbI29JT9xPN"
      },
      "execution_count": null,
      "outputs": []
    },
    {
      "cell_type": "code",
      "source": [
        "history_plot(resnet_history)"
      ],
      "metadata": {
        "id": "qrij3TyoAlxg"
      },
      "execution_count": null,
      "outputs": []
    },
    {
      "cell_type": "markdown",
      "source": [
        "# **Save Model**"
      ],
      "metadata": {
        "id": "aBwuwCyzeAWg"
      }
    },
    {
      "cell_type": "code",
      "execution_count": null,
      "metadata": {
        "id": "8J8D9yzyEznp"
      },
      "outputs": [],
      "source": [
        "from tensorflow.keras.models import load_model\n",
        "model.save('model_ResNet.h5')"
      ]
    },
    {
      "cell_type": "code",
      "source": [
        "from keras.models import load_model\n",
        "ResNet_model = load_model('model_ResNet.h5')"
      ],
      "metadata": {
        "id": "GNM7yXOjTWms"
      },
      "execution_count": null,
      "outputs": []
    }
  ]
}