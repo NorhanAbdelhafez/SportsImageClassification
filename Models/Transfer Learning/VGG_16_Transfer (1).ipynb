{
  "cells": [
    {
      "cell_type": "code",
      "execution_count": null,
      "metadata": {
        "colab": {
          "base_uri": "https://localhost:8080/"
        },
        "id": "ZkPvVRc69umG",
        "outputId": "8bef1298-a602-4185-e4ed-7488af7954c5"
      },
      "outputs": [
        {
          "name": "stdout",
          "output_type": "stream",
          "text": [
            "Mounted at /content/drive\n"
          ]
        }
      ],
      "source": [
        "from google.colab import drive\n",
        "drive.mount('/content/drive')"
      ]
    },
    {
      "cell_type": "code",
      "execution_count": null,
      "metadata": {
        "id": "ZoRsJYjc9w-J"
      },
      "outputs": [],
      "source": [
        "import keras, os\n",
        "import tensorflow as tf\n",
        "from keras.models import Model\n",
        "import matplotlib.pyplot as plt\n",
        "from keras.models import Sequential\n",
        "from tensorflow.keras.layers import concatenate\n",
        "from keras.preprocessing.image import ImageDataGenerator\n",
        "from tensorflow.keras import datasets, layers, models, losses\n",
        "from keras.layers import Input, Dense, Conv2D, MaxPool2D , Flatten, MaxPooling2D, GlobalAveragePooling2D ,AveragePooling2D, Dropout, Activation, BatchNormalization\n",
        "from keras.models import load_model\n",
        "from keras_preprocessing.image import load_img\n",
        "from keras_preprocessing.image import img_to_array\n",
        "from tensorflow.keras.applications.vgg16 import VGG16\n",
        "import numpy as np\n",
        "import cv2\n",
        "import os"
      ]
    },
    {
      "cell_type": "markdown",
      "metadata": {
        "id": "w_txt9T6sARC"
      },
      "source": [
        "# **Read Data**"
      ]
    },
    {
      "cell_type": "code",
      "execution_count": null,
      "metadata": {
        "colab": {
          "base_uri": "https://localhost:8080/"
        },
        "id": "9u6JmGCeHLV0",
        "outputId": "98fff695-065c-4107-e959-44c3d7a70d16"
      },
      "outputs": [
        {
          "name": "stdout",
          "output_type": "stream",
          "text": [
            "Found 14262 files belonging to 6 classes.\n",
            "Found 4274 files belonging to 6 classes.\n"
          ]
        }
      ],
      "source": [
        "TRAIN_AUG_DIR = r\"/content/drive/MyDrive/Sports Datasets/Train\"\n",
        "VALIDATION_AUG_DIR = r\"/content/drive/MyDrive/Sports Datasets/Validation\"\n",
        "\n",
        "image_size=(224,224)\n",
        "train_d = tf.keras.preprocessing.image_dataset_from_directory(\n",
        "     TRAIN_AUG_DIR,\n",
        "     labels=\"inferred\",\n",
        "     label_mode=\"categorical\",\n",
        "     color_mode=\"rgb\",\n",
        "     batch_size=64,\n",
        "     image_size=image_size,\n",
        "     seed=111,\n",
        "     shuffle=True)\n",
        "\n",
        "valid_d =tf.keras.preprocessing.image_dataset_from_directory(\n",
        "    VALIDATION_AUG_DIR,\n",
        "    labels=\"inferred\",\n",
        "    label_mode=\"categorical\",\n",
        "    color_mode=\"rgb\",\n",
        "    batch_size=64,\n",
        "    image_size=image_size,\n",
        "    seed=111,\n",
        "    shuffle=True)"
      ]
    },
    {
      "cell_type": "markdown",
      "metadata": {
        "id": "NI8i7UWxsHNN"
      },
      "source": [
        "# **VGG-16 _ Model**"
      ]
    },
    {
      "cell_type": "code",
      "execution_count": null,
      "metadata": {
        "colab": {
          "base_uri": "https://localhost:8080/"
        },
        "id": "qon3aiVEq8vl",
        "outputId": "bdb71dba-c024-4629-c4de-fd362d6a5394"
      },
      "outputs": [
        {
          "name": "stdout",
          "output_type": "stream",
          "text": [
            "Downloading data from https://storage.googleapis.com/tensorflow/keras-applications/vgg16/vgg16_weights_tf_dim_ordering_tf_kernels_notop.h5\n",
            "58889256/58889256 [==============================] - 0s 0us/step\n"
          ]
        }
      ],
      "source": [
        "base_model = VGG16(input_shape = (224, 224, 3), include_top = False, weights = 'imagenet')"
      ]
    },
    {
      "cell_type": "code",
      "execution_count": null,
      "metadata": {
        "id": "U8Prhi0jRaRU"
      },
      "outputs": [],
      "source": [
        "for layer in base_model.layers:\n",
        "    layer.trainable = False"
      ]
    },
    {
      "cell_type": "code",
      "execution_count": null,
      "metadata": {
        "id": "UhgByoOFjcze"
      },
      "outputs": [],
      "source": [
        "x = layers.Flatten()(base_model.output)\n",
        "x = layers.Dense(512, activation='relu')(x)\n",
        "x = layers.Dropout(0.5)(x)\n",
        "x = layers.Dense(6, activation='Softmax')(x)\n",
        "model = tf.keras.models.Model(base_model.input, x)\n",
        "model.compile(optimizer = 'adam', loss = 'categorical_crossentropy',metrics = ['acc'])"
      ]
    },
    {
      "cell_type": "code",
      "execution_count": null,
      "metadata": {
        "id": "qSdkCoRR2Dxf"
      },
      "outputs": [],
      "source": [
        "from tensorflow.keras.callbacks import EarlyStopping \n",
        "early_stopping = EarlyStopping(restore_best_weights=True,patience=1)"
      ]
    },
    {
      "cell_type": "code",
      "execution_count": null,
      "metadata": {
        "colab": {
          "background_save": true,
          "base_uri": "https://localhost:8080/"
        },
        "id": "Vg8YHYIrjc3C",
        "outputId": "1bf29f9c-119b-415b-958a-2bd7ab969e64"
      },
      "outputs": [
        {
          "name": "stdout",
          "output_type": "stream",
          "text": [
            "Epoch 1/20\n",
            "223/223 [==============================] - 10232s 46s/step - loss: 4.7496 - acc: 0.6971 - val_loss: 0.7027 - val_acc: 0.7847\n",
            "Epoch 2/20\n",
            "223/223 [==============================] - ETA: 0s - loss: 0.6435 - acc: 0.8100 "
          ]
        }
      ],
      "source": [
        "vgghist = model.fit(train_d, epochs=20, validation_data=valid_d, callbacks = [early_stopping])"
      ]
    },
    {
      "cell_type": "markdown",
      "metadata": {
        "id": "6kOdsI-qsSor"
      },
      "source": [
        "# **History Plot**"
      ]
    },
    {
      "cell_type": "code",
      "execution_count": null,
      "metadata": {
        "id": "MG_5zyVHlXom"
      },
      "outputs": [],
      "source": [
        "def history_plot(history):\n",
        "  acc = history.history['acc']\n",
        "  val_acc = history.history['val_acc']\n",
        "  loss = history.history['loss']\n",
        "  val_loss = history.history['val_loss']\n",
        "  epochs_range = range(len(acc))\n",
        "  plt.figure(figsize=(12, 8))\n",
        "  plt.subplot(2, 1, 1)\n",
        "  plt.plot(epochs_range, acc, label='Training Accuracy')\n",
        "  plt.plot(epochs_range, val_acc, label='Validation Accuracy')\n",
        "  plt.legend(loc='lower right')\n",
        "  plt.title('Training and Validation Accuracy')\n",
        "  plt.subplot(2, 1, 2)\n",
        "  plt.plot(epochs_range, loss, label='Training Loss')\n",
        "  plt.plot(epochs_range, val_loss, label='Validation Loss')\n",
        "  plt.legend(loc='upper right')\n",
        "  plt.title('Training and Validation Loss')\n",
        "  plt.show()"
      ]
    },
    {
      "cell_type": "code",
      "execution_count": null,
      "metadata": {
        "id": "g2dMDxJDlXra"
      },
      "outputs": [],
      "source": [
        "history_plot(vgghist)"
      ]
    },
    {
      "cell_type": "markdown",
      "metadata": {
        "id": "89-t9_aGsYjo"
      },
      "source": [
        "# **Save Model**"
      ]
    },
    {
      "cell_type": "code",
      "execution_count": null,
      "metadata": {
        "id": "WwOlX0uBY9Wh"
      },
      "outputs": [],
      "source": [
        "from tensorflow.keras.models import load_model\n",
        "model.save('model_VGG.h5')"
      ]
    },
    {
      "cell_type": "code",
      "execution_count": null,
      "metadata": {
        "id": "1E_jfkGAmTTg"
      },
      "outputs": [],
      "source": [
        "from keras.models import load_model\n",
        "VGG_model = load_model('model_VGG.h5')"
      ]
    }
  ],
  "metadata": {
    "colab": {
      "provenance": []
    },
    "kernelspec": {
      "display_name": "Python 3",
      "name": "python3"
    },
    "language_info": {
      "name": "python"
    }
  },
  "nbformat": 4,
  "nbformat_minor": 0
}